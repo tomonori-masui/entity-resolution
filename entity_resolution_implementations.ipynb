{
 "cells": [
  {
   "cell_type": "markdown",
   "metadata": {
    "colab_type": "text",
    "id": "view-in-github"
   },
   "source": [
    "<a href=\"https://colab.research.google.com/github/tomonori-masui/entity-resolution/blob/main/entity_resolution_implementations.ipynb\" target=\"_parent\"><img src=\"https://colab.research.google.com/assets/colab-badge.svg\" alt=\"Open In Colab\"/></a>"
   ]
  },
  {
   "cell_type": "markdown",
   "metadata": {
    "id": "4w6SC6n_LRks"
   },
   "source": [
    "# Entity Resolution - Identifying Real-World Entities in Noisy Data\n",
    "### Fundamental Theories and Python Implementations\n",
    "\n",
    "In this notebook, we will explore the technical details of fundamental entity resolution approaches using a benchmark dataset."
   ]
  },
  {
   "cell_type": "markdown",
   "metadata": {},
   "source": [
    "## Table of Contents\n",
    "- [Overview of Entity Resolution](#overview-of-entity-resolution)\n",
    "- [Benchmark Dataset](#benchmark-dataset)\n",
    "- [Blocking](#blocking)\n",
    "- [Block Processing](#block-processing)\n",
    "- [Entity Matching](#entity-matching)\n",
    "- [Clustering](#clustering)\n",
    "- [Cluster Evaluation](#cluster-evaluation)\n",
    "- [References](#references)"
   ]
  },
  {
   "cell_type": "code",
   "execution_count": 1,
   "metadata": {
    "id": "3qN-R9b5cKgD"
   },
   "outputs": [],
   "source": [
    "import pandas as pd\n",
    "import numpy as np\n",
    "\n",
    "pd.options.display.max_colwidth = None"
   ]
  },
  {
   "cell_type": "markdown",
   "metadata": {
    "id": "iS4kvVozMXUT"
   },
   "source": [
    "# Overview of Entity Resolution <a class=\"anchor\" id=\"overview-of-entity-resolution\"></a>\n",
    "The standard entity resolution (ER) framework consists of several steps: blocking, block processing, entity matching, and clustering.\n",
    "\n",
    "**1. Blocking**: This is the first step in entity resolution and aims to reduce the search space to identify the same entity by dividing the dataset into smaller, manageable blocks. These blocks contain records that share similar attributes, making the subsequent comparison more efficient.\n",
    "\n",
    "**2. Block Processing**: This step refines the blocks to minimize the number of comparisons by discarding two types of unnecessary comparisons: the redundant ones, which are repeated across multiple blocks, and the superfluous ones, which involve records unlikely to match.\n",
    "\n",
    "**3. Entity Matching**: This focuses on comparing records within blocks to find matches based on the similarity of the records. Various similarity metrics and matching algorithms   can be employed to classify pairs of records as matches or non-matches.\n",
    "\n",
    "**4. Clustering**: Clustering involves grouping the matched records into clusters based on their similarity. The created clusters can be used to get a consolidated view of entities.\n",
    "\n",
    "<center><img src=\"https://raw.githubusercontent.com/tomonori-masui/entity-resolution/main/images/01_er_workflow.png\" width=\"750\" align=\"center\">\n",
    "</center>\n",
    "<center>Entity Resolution workflow</center>"
   ]
  },
  {
   "cell_type": "markdown",
   "metadata": {
    "id": "8X8O6de3Ndhf"
   },
   "source": [
    "# Benchmark Dataset <a class=\"anchor\" id=\"benchmark-dataset\"></a>\n",
    "In the following sections, we will dive into more details of each step in the entity resolution process, along with Python implementation using a benchmark dataset.\n",
    "The dataset, sourced from [the database group at the University of Leipzig](https://dbs.uni-leipzig.de/research/projects/object_matching/benchmark_datasets_for_entity_resolution), is derived from actual records concerning songs from the [MusicBrainz](https://musicbrainz.org/) database but has been deliberately altered using [the DAPO data pollution tool](https://vsis-www.informatik.uni-hamburg.de/getDoc.php/publications/568/Panse-TBD2021-Preprint.pdf). This tool injects both duplicates and errors into the dataset, resulting in a situation where it contains duplicates for 50% of the original records in two to five sources. These duplicates have been generated with a high degree of corruption, serving as a rigorous test to evaluate the effectiveness of ER and clustering approaches.\n",
    "\n",
    "We can load the data with the following code."
   ]
  },
  {
   "cell_type": "code",
   "execution_count": 2,
   "metadata": {
    "id": "UaoU0mp_sm1I"
   },
   "outputs": [],
   "source": [
    "import requests\n",
    "from io import BytesIO\n",
    "\n",
    "url = \"https://raw.githubusercontent.com/tomonori-masui/entity-resolution/main/data/musicbrainz_200k.csv\"\n",
    "res = requests.get(url)\n",
    "df = pd.read_csv(BytesIO(res.content))"
   ]
  },
  {
   "cell_type": "code",
   "execution_count": 3,
   "metadata": {
    "colab": {
     "base_uri": "https://localhost:8080/"
    },
    "id": "kMAAJd5p5-Ma",
    "outputId": "7c0daeb5-de1a-42f4-8679-3833dbd6ab1c"
   },
   "outputs": [
    {
     "data": {
      "text/plain": [
       "(193750, 12)"
      ]
     },
     "execution_count": 3,
     "metadata": {},
     "output_type": "execute_result"
    }
   ],
   "source": [
    "df.shape"
   ]
  },
  {
   "cell_type": "markdown",
   "metadata": {
    "id": "huLOgPvvOvCs"
   },
   "source": [
    "Some example records look like something below."
   ]
  },
  {
   "cell_type": "code",
   "execution_count": 4,
   "metadata": {
    "colab": {
     "base_uri": "https://localhost:8080/",
     "height": 213
    },
    "id": "3vhkIu9AOczz",
    "outputId": "f7ea2a98-5307-4af2-efbe-adf41935c406"
   },
   "outputs": [
    {
     "data": {
      "text/html": [
       "\n",
       "  <div id=\"df-2cb169f3-96f1-4bde-9d57-ec79c88383db\" class=\"colab-df-container\">\n",
       "    <div>\n",
       "<style scoped>\n",
       "    .dataframe tbody tr th:only-of-type {\n",
       "        vertical-align: middle;\n",
       "    }\n",
       "\n",
       "    .dataframe tbody tr th {\n",
       "        vertical-align: top;\n",
       "    }\n",
       "\n",
       "    .dataframe thead th {\n",
       "        text-align: right;\n",
       "    }\n",
       "</style>\n",
       "<table border=\"1\" class=\"dataframe\">\n",
       "  <thead>\n",
       "    <tr style=\"text-align: right;\">\n",
       "      <th></th>\n",
       "      <th>TID</th>\n",
       "      <th>CID</th>\n",
       "      <th>CTID</th>\n",
       "      <th>SourceID</th>\n",
       "      <th>id</th>\n",
       "      <th>number</th>\n",
       "      <th>title</th>\n",
       "      <th>length</th>\n",
       "      <th>artist</th>\n",
       "      <th>album</th>\n",
       "      <th>year</th>\n",
       "      <th>language</th>\n",
       "    </tr>\n",
       "  </thead>\n",
       "  <tbody>\n",
       "    <tr>\n",
       "      <th>57699</th>\n",
       "      <td>57700</td>\n",
       "      <td>41689</td>\n",
       "      <td>3</td>\n",
       "      <td>4</td>\n",
       "      <td>14690-A031</td>\n",
       "      <td>6</td>\n",
       "      <td>006-My Father</td>\n",
       "      <td>3m 19sec</td>\n",
       "      <td>Bill Cosby</td>\n",
       "      <td>When I Was a Kid (2005)</td>\n",
       "      <td>NaN</td>\n",
       "      <td>Eng.</td>\n",
       "    </tr>\n",
       "    <tr>\n",
       "      <th>80716</th>\n",
       "      <td>80717</td>\n",
       "      <td>41689</td>\n",
       "      <td>1</td>\n",
       "      <td>2</td>\n",
       "      <td>MBox281897-HH</td>\n",
       "      <td>6</td>\n",
       "      <td>Bill Cosby - My Father</td>\n",
       "      <td>199</td>\n",
       "      <td>NaN</td>\n",
       "      <td>When I Wa sa Kid</td>\n",
       "      <td>05</td>\n",
       "      <td>English</td>\n",
       "    </tr>\n",
       "    <tr>\n",
       "      <th>116076</th>\n",
       "      <td>116077</td>\n",
       "      <td>41689</td>\n",
       "      <td>2</td>\n",
       "      <td>3</td>\n",
       "      <td>4534714MB-01</td>\n",
       "      <td>6</td>\n",
       "      <td>My Father - When I Was a Kid</td>\n",
       "      <td>3.325</td>\n",
       "      <td>Bill-Cosby</td>\n",
       "      <td>NaN</td>\n",
       "      <td>'05</td>\n",
       "      <td>ENGLISH</td>\n",
       "    </tr>\n",
       "  </tbody>\n",
       "</table>\n",
       "</div>\n",
       "    <div class=\"colab-df-buttons\">\n",
       "\n",
       "  <div class=\"colab-df-container\">\n",
       "    <button class=\"colab-df-convert\" onclick=\"convertToInteractive('df-2cb169f3-96f1-4bde-9d57-ec79c88383db')\"\n",
       "            title=\"Convert this dataframe to an interactive table.\"\n",
       "            style=\"display:none;\">\n",
       "\n",
       "  <svg xmlns=\"http://www.w3.org/2000/svg\" height=\"24px\" viewBox=\"0 -960 960 960\">\n",
       "    <path d=\"M120-120v-720h720v720H120Zm60-500h600v-160H180v160Zm220 220h160v-160H400v160Zm0 220h160v-160H400v160ZM180-400h160v-160H180v160Zm440 0h160v-160H620v160ZM180-180h160v-160H180v160Zm440 0h160v-160H620v160Z\"/>\n",
       "  </svg>\n",
       "    </button>\n",
       "\n",
       "  <style>\n",
       "    .colab-df-container {\n",
       "      display:flex;\n",
       "      gap: 12px;\n",
       "    }\n",
       "\n",
       "    .colab-df-convert {\n",
       "      background-color: #E8F0FE;\n",
       "      border: none;\n",
       "      border-radius: 50%;\n",
       "      cursor: pointer;\n",
       "      display: none;\n",
       "      fill: #1967D2;\n",
       "      height: 32px;\n",
       "      padding: 0 0 0 0;\n",
       "      width: 32px;\n",
       "    }\n",
       "\n",
       "    .colab-df-convert:hover {\n",
       "      background-color: #E2EBFA;\n",
       "      box-shadow: 0px 1px 2px rgba(60, 64, 67, 0.3), 0px 1px 3px 1px rgba(60, 64, 67, 0.15);\n",
       "      fill: #174EA6;\n",
       "    }\n",
       "\n",
       "    .colab-df-buttons div {\n",
       "      margin-bottom: 4px;\n",
       "    }\n",
       "\n",
       "    [theme=dark] .colab-df-convert {\n",
       "      background-color: #3B4455;\n",
       "      fill: #D2E3FC;\n",
       "    }\n",
       "\n",
       "    [theme=dark] .colab-df-convert:hover {\n",
       "      background-color: #434B5C;\n",
       "      box-shadow: 0px 1px 3px 1px rgba(0, 0, 0, 0.15);\n",
       "      filter: drop-shadow(0px 1px 2px rgba(0, 0, 0, 0.3));\n",
       "      fill: #FFFFFF;\n",
       "    }\n",
       "  </style>\n",
       "\n",
       "    <script>\n",
       "      const buttonEl =\n",
       "        document.querySelector('#df-2cb169f3-96f1-4bde-9d57-ec79c88383db button.colab-df-convert');\n",
       "      buttonEl.style.display =\n",
       "        google.colab.kernel.accessAllowed ? 'block' : 'none';\n",
       "\n",
       "      async function convertToInteractive(key) {\n",
       "        const element = document.querySelector('#df-2cb169f3-96f1-4bde-9d57-ec79c88383db');\n",
       "        const dataTable =\n",
       "          await google.colab.kernel.invokeFunction('convertToInteractive',\n",
       "                                                    [key], {});\n",
       "        if (!dataTable) return;\n",
       "\n",
       "        const docLinkHtml = 'Like what you see? Visit the ' +\n",
       "          '<a target=\"_blank\" href=https://colab.research.google.com/notebooks/data_table.ipynb>data table notebook</a>'\n",
       "          + ' to learn more about interactive tables.';\n",
       "        element.innerHTML = '';\n",
       "        dataTable['output_type'] = 'display_data';\n",
       "        await google.colab.output.renderOutput(dataTable, element);\n",
       "        const docLink = document.createElement('div');\n",
       "        docLink.innerHTML = docLinkHtml;\n",
       "        element.appendChild(docLink);\n",
       "      }\n",
       "    </script>\n",
       "  </div>\n",
       "\n",
       "\n",
       "<div id=\"df-fddd24de-fe48-47ff-bd31-3094ab085162\">\n",
       "  <button class=\"colab-df-quickchart\" onclick=\"quickchart('df-fddd24de-fe48-47ff-bd31-3094ab085162')\"\n",
       "            title=\"Suggest charts.\"\n",
       "            style=\"display:none;\">\n",
       "\n",
       "<svg xmlns=\"http://www.w3.org/2000/svg\" height=\"24px\"viewBox=\"0 0 24 24\"\n",
       "     width=\"24px\">\n",
       "    <g>\n",
       "        <path d=\"M19 3H5c-1.1 0-2 .9-2 2v14c0 1.1.9 2 2 2h14c1.1 0 2-.9 2-2V5c0-1.1-.9-2-2-2zM9 17H7v-7h2v7zm4 0h-2V7h2v10zm4 0h-2v-4h2v4z\"/>\n",
       "    </g>\n",
       "</svg>\n",
       "  </button>\n",
       "\n",
       "<style>\n",
       "  .colab-df-quickchart {\n",
       "      --bg-color: #E8F0FE;\n",
       "      --fill-color: #1967D2;\n",
       "      --hover-bg-color: #E2EBFA;\n",
       "      --hover-fill-color: #174EA6;\n",
       "      --disabled-fill-color: #AAA;\n",
       "      --disabled-bg-color: #DDD;\n",
       "  }\n",
       "\n",
       "  [theme=dark] .colab-df-quickchart {\n",
       "      --bg-color: #3B4455;\n",
       "      --fill-color: #D2E3FC;\n",
       "      --hover-bg-color: #434B5C;\n",
       "      --hover-fill-color: #FFFFFF;\n",
       "      --disabled-bg-color: #3B4455;\n",
       "      --disabled-fill-color: #666;\n",
       "  }\n",
       "\n",
       "  .colab-df-quickchart {\n",
       "    background-color: var(--bg-color);\n",
       "    border: none;\n",
       "    border-radius: 50%;\n",
       "    cursor: pointer;\n",
       "    display: none;\n",
       "    fill: var(--fill-color);\n",
       "    height: 32px;\n",
       "    padding: 0;\n",
       "    width: 32px;\n",
       "  }\n",
       "\n",
       "  .colab-df-quickchart:hover {\n",
       "    background-color: var(--hover-bg-color);\n",
       "    box-shadow: 0 1px 2px rgba(60, 64, 67, 0.3), 0 1px 3px 1px rgba(60, 64, 67, 0.15);\n",
       "    fill: var(--button-hover-fill-color);\n",
       "  }\n",
       "\n",
       "  .colab-df-quickchart-complete:disabled,\n",
       "  .colab-df-quickchart-complete:disabled:hover {\n",
       "    background-color: var(--disabled-bg-color);\n",
       "    fill: var(--disabled-fill-color);\n",
       "    box-shadow: none;\n",
       "  }\n",
       "\n",
       "  .colab-df-spinner {\n",
       "    border: 2px solid var(--fill-color);\n",
       "    border-color: transparent;\n",
       "    border-bottom-color: var(--fill-color);\n",
       "    animation:\n",
       "      spin 1s steps(1) infinite;\n",
       "  }\n",
       "\n",
       "  @keyframes spin {\n",
       "    0% {\n",
       "      border-color: transparent;\n",
       "      border-bottom-color: var(--fill-color);\n",
       "      border-left-color: var(--fill-color);\n",
       "    }\n",
       "    20% {\n",
       "      border-color: transparent;\n",
       "      border-left-color: var(--fill-color);\n",
       "      border-top-color: var(--fill-color);\n",
       "    }\n",
       "    30% {\n",
       "      border-color: transparent;\n",
       "      border-left-color: var(--fill-color);\n",
       "      border-top-color: var(--fill-color);\n",
       "      border-right-color: var(--fill-color);\n",
       "    }\n",
       "    40% {\n",
       "      border-color: transparent;\n",
       "      border-right-color: var(--fill-color);\n",
       "      border-top-color: var(--fill-color);\n",
       "    }\n",
       "    60% {\n",
       "      border-color: transparent;\n",
       "      border-right-color: var(--fill-color);\n",
       "    }\n",
       "    80% {\n",
       "      border-color: transparent;\n",
       "      border-right-color: var(--fill-color);\n",
       "      border-bottom-color: var(--fill-color);\n",
       "    }\n",
       "    90% {\n",
       "      border-color: transparent;\n",
       "      border-bottom-color: var(--fill-color);\n",
       "    }\n",
       "  }\n",
       "</style>\n",
       "\n",
       "  <script>\n",
       "    async function quickchart(key) {\n",
       "      const quickchartButtonEl =\n",
       "        document.querySelector('#' + key + ' button');\n",
       "      quickchartButtonEl.disabled = true;  // To prevent multiple clicks.\n",
       "      quickchartButtonEl.classList.add('colab-df-spinner');\n",
       "      try {\n",
       "        const charts = await google.colab.kernel.invokeFunction(\n",
       "            'suggestCharts', [key], {});\n",
       "      } catch (error) {\n",
       "        console.error('Error during call to suggestCharts:', error);\n",
       "      }\n",
       "      quickchartButtonEl.classList.remove('colab-df-spinner');\n",
       "      quickchartButtonEl.classList.add('colab-df-quickchart-complete');\n",
       "    }\n",
       "    (() => {\n",
       "      let quickchartButtonEl =\n",
       "        document.querySelector('#df-fddd24de-fe48-47ff-bd31-3094ab085162 button');\n",
       "      quickchartButtonEl.style.display =\n",
       "        google.colab.kernel.accessAllowed ? 'block' : 'none';\n",
       "    })();\n",
       "  </script>\n",
       "</div>\n",
       "    </div>\n",
       "  </div>\n"
      ],
      "text/plain": [
       "           TID    CID  CTID  SourceID             id number  \\\n",
       "57699    57700  41689     3         4     14690-A031      6   \n",
       "80716    80717  41689     1         2  MBox281897-HH      6   \n",
       "116076  116077  41689     2         3   4534714MB-01      6   \n",
       "\n",
       "                               title    length      artist  \\\n",
       "57699                  006-My Father  3m 19sec  Bill Cosby   \n",
       "80716         Bill Cosby - My Father       199         NaN   \n",
       "116076  My Father - When I Was a Kid     3.325  Bill-Cosby   \n",
       "\n",
       "                          album year language  \n",
       "57699   When I Was a Kid (2005)  NaN     Eng.  \n",
       "80716          When I Wa sa Kid   05  English  \n",
       "116076                      NaN  '05  ENGLISH  "
      ]
     },
     "execution_count": 4,
     "metadata": {},
     "output_type": "execute_result"
    }
   ],
   "source": [
    "df[df.CID == 41689]"
   ]
  },
  {
   "cell_type": "markdown",
   "metadata": {
    "id": "rkh1IAwiOza7"
   },
   "source": [
    "Each record represents a song having attributes such as artist, title, album, year, etc (You can find field descriptions [in this link](https://www.informatik.uni-leipzig.de/~saeedi/musicBrainz_readme.txt)). `CID` is cluster ID and the records having the same `CID` are duplicates (in the example above all three records represent the same song). Our goal is to identify those duplicates in this noisy dataset.\n",
    "\n",
    "To simplify our work, we are focusing only on English songs. The code below identifies records with cluster IDs that have English songs."
   ]
  },
  {
   "cell_type": "code",
   "execution_count": 5,
   "metadata": {
    "id": "3Ezfyst1cKgG"
   },
   "outputs": [],
   "source": [
    "english_cids = df[\n",
    "    df.language.str.lower().str.contains(\"^en|^eg\", na=False)\n",
    "].CID.unique()\n",
    "\n",
    "df = df[df.CID.isin(english_cids)].reset_index(drop=True)"
   ]
  },
  {
   "cell_type": "markdown",
   "metadata": {
    "id": "6NUv7ZvtRS94"
   },
   "source": [
    "We are also preprocessing some of the string fields to get standardized values."
   ]
  },
  {
   "cell_type": "code",
   "execution_count": 6,
   "metadata": {
    "id": "DOnGeszecKgH"
   },
   "outputs": [],
   "source": [
    "for col in [\"title\", \"artist\", \"album\"]:\n",
    "    df[col] = (\n",
    "        df[col]\n",
    "        .str.lower()\n",
    "        .replace(\"[^a-z0-9]\", \" \", regex=True)  # replacing special characters with a space\n",
    "        .replace(\" +\", \" \", regex=True)         # removing consecutive spaces\n",
    "        .str.strip()                            # removing leading and tailing spaces\n",
    "    )\n",
    "\n",
    "df.loc[df.number.notna(), \"number\"] = (\n",
    "    df[df.number.notna()]\n",
    "    .number.replace(\"[^0-9]\", \"\", regex=True)              # removing non-digits\n",
    "    .apply(lambda x: str(int(x)) if len(x) > 0 else None)  # removing leading zeros\n",
    ")"
   ]
  },
  {
   "cell_type": "markdown",
   "metadata": {
    "id": "3h3x9Jl5RZE4"
   },
   "source": [
    "Please note that this benchmark dataset is a single dataset, and if you have multiple data sources for which you want to resolve entities, you need to standardize their data schemas and consolidate these multiple data sources into a unified dataset before proceeding with the subsequent steps."
   ]
  },
  {
   "cell_type": "markdown",
   "metadata": {
    "id": "Aj1RnQYbMEq5"
   },
   "source": [
    "# Blocking <a class=\"anchor\" id=\"blocking\"></a>\n",
    "Blocking is the first step in entity resolution that groups similar records together based on certain attributes. By doing so, the process narrows its search to only consider comparisons within each block, rather than examining all possible record pairs in the dataset. This significantly reduces the number of comparisons and accelerates the ER process. As it skips many comparisons, it possibly leads to missed true matches. Therefore, Blocking should achieve a good balance between efficiency and accuracy. In this section, we will explore three different blocking approaches (standard blocking, token blocking, and sorted neighborhood) to find the best balance on that trade-off."
   ]
  },
  {
   "cell_type": "markdown",
   "metadata": {
    "id": "EiSx9Y6iRjeo"
   },
   "source": [
    "## Standard Blocking\n",
    "The most straightforward blocking technique involves partitioning the dataset into blocks based on a specific attribute. For example, in our dataset, one might create blocks based on `Artist` or `Title` field. This approach is intuitive and easy to implement, but its effectiveness is very sensitive to noise, as the slightest difference in the blocking keys of duplicates places them in different blocks.\n",
    "\n",
    "<img src=\"https://raw.githubusercontent.com/tomonori-masui/entity-resolution/main/images/02_standard_blocking.png\" width=\"750\" align=\"center\">\n",
    "<center>Example of Standard Blocking on Artist field</center>\n",
    "\n",
    "We can get standard blocks with the function below. The dictionary blockswill store blocking keys (`key`) and their corresponding indices (`idx`) of blocked records."
   ]
  },
  {
   "cell_type": "code",
   "execution_count": 7,
   "metadata": {
    "id": "jc2P6IyFO3AP"
   },
   "outputs": [],
   "source": [
    "from collections import defaultdict\n",
    "\n",
    "def standard_blocking(field_values: pd.Series) -> dict[str, list]:\n",
    "\n",
    "    blocks = defaultdict(list)\n",
    "    for idx, key in enumerate(field_values):\n",
    "        if key is not None:\n",
    "            blocks[key].append(idx)\n",
    "\n",
    "    return blocks"
   ]
  },
  {
   "cell_type": "markdown",
   "metadata": {
    "id": "bLMu3fq2TLf9"
   },
   "source": [
    "In the following code, we are creating three independent standard blocks using the fields of `title`, `artist`, and `album`."
   ]
  },
  {
   "cell_type": "code",
   "execution_count": 8,
   "metadata": {
    "id": "nSiNhRWoLwEW"
   },
   "outputs": [],
   "source": [
    "sb_title = standard_blocking(df.title)\n",
    "sb_artist = standard_blocking(df.artist)\n",
    "sb_album = standard_blocking(df.album)"
   ]
  },
  {
   "cell_type": "markdown",
   "metadata": {
    "id": "0kO5X_aGTSW9"
   },
   "source": [
    "## Token Blocking\n",
    "Token blocking focuses on breaking down (i.e. tokenizing) the values of attributes into smaller units, called tokens, and then using these tokens to create blocks for comparison. Tokens are typically single words or small n-grams (substrings of length `n`) extracted from the text. Token blocking creates a block for every distinct token value, regardless of the associated attributes: two records will be in the same block if they share a token in any of their attributes. This yields high recall, due to redundancy (i.e. a single record can belong to multiple blocks), at the cost of low precision.\n",
    "\n",
    "<center><img src=\"https://raw.githubusercontent.com/tomonori-masui/entity-resolution/main/images/03_token_blocking.png\" width=\"550\" align=\"center\"></center>\n",
    "<center>Example of Token Blocking</center>\n",
    "\n",
    "The function below generates token blocks based on word tokens. Please note we are excluding stop words (e.g. \"a\", \"the\", \"is\", etc) from the tokens."
   ]
  },
  {
   "cell_type": "code",
   "execution_count": 9,
   "metadata": {
    "id": "QTasXJ4VUEZs"
   },
   "outputs": [],
   "source": [
    "%%capture\n",
    "\n",
    "import string\n",
    "import nltk\n",
    "from nltk.tokenize import word_tokenize\n",
    "from nltk.corpus import stopwords\n",
    "nltk.download('punkt')\n",
    "nltk.download('stopwords')"
   ]
  },
  {
   "cell_type": "code",
   "execution_count": 10,
   "metadata": {
    "id": "luGnrjems8jz"
   },
   "outputs": [],
   "source": [
    "def token_blocking(df: pd.DataFrame, stop_words: set) -> dict[str, list]:\n",
    "\n",
    "    blocks = defaultdict(list)\n",
    "\n",
    "    for i, row in enumerate(df.itertuples()):\n",
    "\n",
    "        # concatenate columns and tokenize\n",
    "        string = \" \".join([str(value) for value in row if not pd.isna(value)])\n",
    "        tokens = set(\n",
    "            [word for word in word_tokenize(string) if word not in stop_words]\n",
    "        )\n",
    "\n",
    "        # create blocks\n",
    "        for token in tokens:\n",
    "            blocks[token].append(i)\n",
    "\n",
    "    return blocks"
   ]
  },
  {
   "cell_type": "markdown",
   "metadata": {
    "id": "s29cLRNOUct4"
   },
   "source": [
    "As we know which fields are relevant to create blocks, we only use specific fields (`title`, `artist`, and `album`) to perform token blocking:"
   ]
  },
  {
   "cell_type": "code",
   "execution_count": 11,
   "metadata": {
    "id": "5l1mSFT75fYi"
   },
   "outputs": [],
   "source": [
    "columns = ['title', 'artist', 'album']\n",
    "stop_words = set(stopwords.words('english') + list(string.punctuation))\n",
    "token_blocks = token_blocking(df[columns], stop_words)"
   ]
  },
  {
   "cell_type": "markdown",
   "metadata": {
    "id": "TphjVDciU7zI"
   },
   "source": [
    "## Sorted Neighborhood\n",
    "Sorted Neighborhood sorts records by specific fields' values in alphabetical order. A fixed-size window slides over the sorted records and all the possible pairs within the window are identified as candidate pairs for comparison. Please note that it directly produces a list of pairs instead of blocks. While this method effectively handles noise in blocking fields, opting for a smaller window sacrifices recall in favor of precision, whereas a larger window has higher recall with lower precision.\n",
    "\n",
    "<center><img src=\"https://raw.githubusercontent.com/tomonori-masui/entity-resolution/main/images/04_sorted_neighborhood.gif\" width=\"750\" align=\"center\"></center>\n",
    "<center>Example of Sorted Neighborhood with window size 3</center>\n",
    "\n",
    "The code below performs Sorted Neighborhood with window size 3, using the fields of `title`, `artist`, and `album` as the sorting keys."
   ]
  },
  {
   "cell_type": "code",
   "execution_count": 12,
   "metadata": {
    "id": "aNaFuskuVx7Q"
   },
   "outputs": [],
   "source": [
    "def sorted_neighborhood(\n",
    "    df: pd.DataFrame, keys: list, window_size: int = 3\n",
    ") -> np.ndarray:\n",
    "\n",
    "    sorted_indices = (\n",
    "        df[keys].dropna(how=\"all\").sort_values(keys).index.tolist()\n",
    "    )\n",
    "    pairs = []\n",
    "    for window_end in range(1, len(sorted_indices)):\n",
    "        window_start = max(0, window_end - window_size)\n",
    "        for i in range(window_start, window_end):\n",
    "            pairs.append([sorted_indices[i], sorted_indices[window_end]])\n",
    "\n",
    "    return np.array(pairs)"
   ]
  },
  {
   "cell_type": "code",
   "execution_count": 13,
   "metadata": {
    "id": "lTOvRX5fajaz"
   },
   "outputs": [],
   "source": [
    "columns = ['title', 'artist', 'album']\n",
    "sn_pairs = sorted_neighborhood(df, columns)"
   ]
  },
  {
   "cell_type": "markdown",
   "metadata": {
    "id": "oJIDvvirpC6R"
   },
   "source": [
    "We will compare the performance of the three approaches discussed in this section after performing block processing and entity matching in the next two sections."
   ]
  },
  {
   "cell_type": "markdown",
   "metadata": {
    "id": "oipMdd7DafZr"
   },
   "source": [
    "# Block Processing <a class=\"anchor\" id=\"block-processing\"></a>\n",
    "This step aims to improve the precision of blocks while maintaining a comparable level of recall. The relevant techniques involve reducing unnecessary and redundant comparisons within the input set of blocks `B`, resulting in generation of a new set of blocks `B′` with improved precision. We will explore some of the major block-processing techniques in this section.\n",
    "\n",
    "## Block Purging\n",
    "Block Purging sets an upper limit on the block size and purges blocks if their sizes go over the limit. It assumes that excessively large blocks are dominated by redundant comparisons, meaning that duplicates contained in those blocks are more likely to appear in other smaller blocks.\n",
    "The code below purges blocks by a predetermined limit (set as 1000 records here). It also filters out blocks with just one record as they do not create pairs to compare. We are performing this `purge_blocks` function on the three standard blocks and the token blocks from the previous section."
   ]
  },
  {
   "cell_type": "code",
   "execution_count": 14,
   "metadata": {
    "id": "2tXSu5FPae0q"
   },
   "outputs": [],
   "source": [
    "def purge_blocks(\n",
    "    blocks: dict[str, list], purging_threshold: int = 1000\n",
    ") -> dict[str, list]:\n",
    "\n",
    "    blocks_purged = {\n",
    "        key: indices\n",
    "        for key, indices in blocks.items()\n",
    "        if len(indices) < purging_threshold and len(indices) > 1\n",
    "    }\n",
    "\n",
    "    return blocks_purged"
   ]
  },
  {
   "cell_type": "code",
   "execution_count": 15,
   "metadata": {
    "id": "7a8eUV6CcZZ4"
   },
   "outputs": [],
   "source": [
    "token_blocks = purge_blocks(token_blocks)\n",
    "sb_title = purge_blocks(sb_title)\n",
    "sb_artist = purge_blocks(sb_artist)\n",
    "sb_album = purge_blocks(sb_album)"
   ]
  },
  {
   "cell_type": "markdown",
   "metadata": {
    "id": "6LA0YCOcir1O"
   },
   "source": [
    "## Meta-blocking\n",
    "Meta-blocking transforms the input block collection into a graph (or adjacency matrix), where each node corresponds to a record, and edges link every pair of records that co-occur in a block. An edge weight represents the frequency of pair occurrences across blocks: higher weights indicate a greater likelihood of a match. Edges with low weights are pruned, as they likely represent superfluous comparisons. Consequently, for each retained edge, a new block is generated, resulting in a refined block collection (or a list of pairs as each of the refined blocks only has a single pair of records).\n",
    "\n",
    "<center><img src=\"https://github.com/tomonori-masui/entity-resolution/blob/main/images/05_meta_blocking.png?raw=true\" width=\"750\" align=\"center\"></center>\n",
    "<center>Example of Meta Blocking</center>\n",
    "\n",
    "We are performing meta-blocking only on token blocks as they have many overlaps across the blocks. The following code creates a list of pairs from the token blocks first and then converts it into an adjacency matrix."
   ]
  },
  {
   "cell_type": "code",
   "execution_count": 16,
   "metadata": {
    "id": "5LJhmt6qfyz9"
   },
   "outputs": [],
   "source": [
    "import itertools\n",
    "from scipy.sparse import csr_matrix\n",
    "\n",
    "\n",
    "def get_pairs_from_blocks(blocks: dict[str, list]) -> list[list]:\n",
    "    return [\n",
    "        pair\n",
    "        for indices in blocks.values()\n",
    "        for pair in list(itertools.combinations(indices, 2))\n",
    "    ]\n",
    "\n",
    "\n",
    "def get_adjacency_matrix_from_pairs(\n",
    "    pairs: list[list], matrix_shape: tuple[int, int]\n",
    ") -> csr_matrix:\n",
    "\n",
    "    idx1 = [pair[0] for pair in pairs]\n",
    "    idx2 = [pair[1] for pair in pairs]\n",
    "    ones = np.ones(len(idx1))\n",
    "\n",
    "    return csr_matrix(\n",
    "        (ones, (idx1, idx2)), shape=matrix_shape, dtype=np.int8\n",
    "    )\n",
    "\n",
    "\n",
    "pairs = get_pairs_from_blocks(token_blocks)\n",
    "adj_matrix = get_adjacency_matrix_from_pairs(pairs, (len(df), len(df)))"
   ]
  },
  {
   "cell_type": "markdown",
   "metadata": {
    "id": "7uSDm2puYzqH"
   },
   "source": [
    "Next, we are pruning edges in the adjacency matrix based on the edge weight. Here we are pruning all edges with edge weight 1, meaning pairs that only appear in a single block are trimmed."
   ]
  },
  {
   "cell_type": "code",
   "execution_count": 17,
   "metadata": {
    "colab": {
     "base_uri": "https://localhost:8080/"
    },
    "id": "iwU2ewRaYb41",
    "outputId": "eaecbc3f-a21b-4724-b4b5-9f71a6b7b176"
   },
   "outputs": [
    {
     "name": "stdout",
     "output_type": "stream",
     "text": [
      "original edge count: 70,337,023\n",
      "edge count after pruning: 2,501,622\n"
     ]
    }
   ],
   "source": [
    "def prune_edges(\n",
    "    adj_matrix: csr_matrix,\n",
    "    edge_weight_threshold: float,\n",
    "    verbose: bool = False,\n",
    ") -> csr_matrix:\n",
    "\n",
    "    adj_matrix_pruned = adj_matrix >= edge_weight_threshold\n",
    "\n",
    "    if verbose:\n",
    "        print(f\"original edge count: {adj_matrix.nonzero()[0].shape[0]:,}\")\n",
    "        print(\n",
    "            f\"edge count after pruning: {adj_matrix_pruned.nonzero()[0].shape[0]:,}\"\n",
    "        )\n",
    "\n",
    "    return adj_matrix_pruned\n",
    "\n",
    "adj_matrix = prune_edges(adj_matrix, edge_weight_threshold=2, verbose=True)"
   ]
  },
  {
   "cell_type": "markdown",
   "metadata": {
    "id": "L16YVsU-Y32r"
   },
   "source": [
    "Then, we get pairs from the pruned adjacency matrix."
   ]
  },
  {
   "cell_type": "code",
   "execution_count": 18,
   "metadata": {
    "id": "s2oU2rDHWSvk"
   },
   "outputs": [],
   "source": [
    "def get_pairs_from_adj_matrix(adjacency_matrix: csr_matrix) -> np.ndarray:\n",
    "    return np.array(adjacency_matrix.nonzero()).T\n",
    "\n",
    "tb_pairs = get_pairs_from_adj_matrix(adj_matrix)"
   ]
  },
  {
   "cell_type": "markdown",
   "metadata": {
    "id": "1YsZSeWg5VK4"
   },
   "source": [
    "## Union of Blocks\n",
    "In the case of the standard blocks, we obtain a union of the three independent blocks. First, we convert the blocks into a list of adjacency matrices."
   ]
  },
  {
   "cell_type": "code",
   "execution_count": 19,
   "metadata": {
    "id": "Fda8DAHNW1um"
   },
   "outputs": [],
   "source": [
    "adj_matrix_list = []\n",
    "for blocks in [sb_title, sb_artist, sb_album]:\n",
    "    pairs = get_pairs_from_blocks(blocks)\n",
    "    adj_matrix_list.append(\n",
    "        get_adjacency_matrix_from_pairs(pairs, (len(df), len(df)))\n",
    "    )"
   ]
  },
  {
   "cell_type": "markdown",
   "metadata": {
    "id": "InYnYfWEZFU-"
   },
   "source": [
    "Then, we get a union of the matrices and candidate pairs from it."
   ]
  },
  {
   "cell_type": "code",
   "execution_count": 20,
   "metadata": {
    "id": "GxAIudnhcKgI"
   },
   "outputs": [],
   "source": [
    "def get_union_of_adj_matrices(adj_matrix_list: list) -> csr_matrix:\n",
    "\n",
    "    adj_matrix = csr_matrix(adj_matrix_list[0].shape)\n",
    "    for matrix in adj_matrix_list:\n",
    "        adj_matrix += matrix\n",
    "\n",
    "    return adj_matrix"
   ]
  },
  {
   "cell_type": "code",
   "execution_count": 21,
   "metadata": {
    "id": "yBv8edjlXrV2"
   },
   "outputs": [],
   "source": [
    "adj_matrix_union = get_union_of_adj_matrices(adj_matrix_list)\n",
    "sb_pairs = get_pairs_from_adj_matrix(adj_matrix_union)"
   ]
  },
  {
   "cell_type": "markdown",
   "metadata": {
    "id": "stNd6ykAZJg3"
   },
   "source": [
    "The table below summarizes the final number of candidate pairs from the three different blocking approaches."
   ]
  },
  {
   "cell_type": "code",
   "execution_count": 22,
   "metadata": {
    "colab": {
     "base_uri": "https://localhost:8080/",
     "height": 143
    },
    "id": "z85FvIFtwMP9",
    "outputId": "07ee8193-b3ca-4789-af55-178a829837c8"
   },
   "outputs": [
    {
     "data": {
      "text/html": [
       "\n",
       "  <div id=\"df-a3f5e68f-daa5-44f8-935a-65f3ece40ace\" class=\"colab-df-container\">\n",
       "    <div>\n",
       "<style scoped>\n",
       "    .dataframe tbody tr th:only-of-type {\n",
       "        vertical-align: middle;\n",
       "    }\n",
       "\n",
       "    .dataframe tbody tr th {\n",
       "        vertical-align: top;\n",
       "    }\n",
       "\n",
       "    .dataframe thead th {\n",
       "        text-align: right;\n",
       "    }\n",
       "</style>\n",
       "<table border=\"1\" class=\"dataframe\">\n",
       "  <thead>\n",
       "    <tr style=\"text-align: right;\">\n",
       "      <th></th>\n",
       "      <th>Blocking Approach</th>\n",
       "      <th>N of Candidate Pairs</th>\n",
       "    </tr>\n",
       "  </thead>\n",
       "  <tbody>\n",
       "    <tr>\n",
       "      <th>0</th>\n",
       "      <td>Standard Blocking</td>\n",
       "      <td>1,338,965</td>\n",
       "    </tr>\n",
       "    <tr>\n",
       "      <th>1</th>\n",
       "      <td>Token Blocking</td>\n",
       "      <td>2,501,622</td>\n",
       "    </tr>\n",
       "    <tr>\n",
       "      <th>2</th>\n",
       "      <td>Sorted Neighborhood</td>\n",
       "      <td>382,296</td>\n",
       "    </tr>\n",
       "  </tbody>\n",
       "</table>\n",
       "</div>\n",
       "    <div class=\"colab-df-buttons\">\n",
       "\n",
       "  <div class=\"colab-df-container\">\n",
       "    <button class=\"colab-df-convert\" onclick=\"convertToInteractive('df-a3f5e68f-daa5-44f8-935a-65f3ece40ace')\"\n",
       "            title=\"Convert this dataframe to an interactive table.\"\n",
       "            style=\"display:none;\">\n",
       "\n",
       "  <svg xmlns=\"http://www.w3.org/2000/svg\" height=\"24px\" viewBox=\"0 -960 960 960\">\n",
       "    <path d=\"M120-120v-720h720v720H120Zm60-500h600v-160H180v160Zm220 220h160v-160H400v160Zm0 220h160v-160H400v160ZM180-400h160v-160H180v160Zm440 0h160v-160H620v160ZM180-180h160v-160H180v160Zm440 0h160v-160H620v160Z\"/>\n",
       "  </svg>\n",
       "    </button>\n",
       "\n",
       "  <style>\n",
       "    .colab-df-container {\n",
       "      display:flex;\n",
       "      gap: 12px;\n",
       "    }\n",
       "\n",
       "    .colab-df-convert {\n",
       "      background-color: #E8F0FE;\n",
       "      border: none;\n",
       "      border-radius: 50%;\n",
       "      cursor: pointer;\n",
       "      display: none;\n",
       "      fill: #1967D2;\n",
       "      height: 32px;\n",
       "      padding: 0 0 0 0;\n",
       "      width: 32px;\n",
       "    }\n",
       "\n",
       "    .colab-df-convert:hover {\n",
       "      background-color: #E2EBFA;\n",
       "      box-shadow: 0px 1px 2px rgba(60, 64, 67, 0.3), 0px 1px 3px 1px rgba(60, 64, 67, 0.15);\n",
       "      fill: #174EA6;\n",
       "    }\n",
       "\n",
       "    .colab-df-buttons div {\n",
       "      margin-bottom: 4px;\n",
       "    }\n",
       "\n",
       "    [theme=dark] .colab-df-convert {\n",
       "      background-color: #3B4455;\n",
       "      fill: #D2E3FC;\n",
       "    }\n",
       "\n",
       "    [theme=dark] .colab-df-convert:hover {\n",
       "      background-color: #434B5C;\n",
       "      box-shadow: 0px 1px 3px 1px rgba(0, 0, 0, 0.15);\n",
       "      filter: drop-shadow(0px 1px 2px rgba(0, 0, 0, 0.3));\n",
       "      fill: #FFFFFF;\n",
       "    }\n",
       "  </style>\n",
       "\n",
       "    <script>\n",
       "      const buttonEl =\n",
       "        document.querySelector('#df-a3f5e68f-daa5-44f8-935a-65f3ece40ace button.colab-df-convert');\n",
       "      buttonEl.style.display =\n",
       "        google.colab.kernel.accessAllowed ? 'block' : 'none';\n",
       "\n",
       "      async function convertToInteractive(key) {\n",
       "        const element = document.querySelector('#df-a3f5e68f-daa5-44f8-935a-65f3ece40ace');\n",
       "        const dataTable =\n",
       "          await google.colab.kernel.invokeFunction('convertToInteractive',\n",
       "                                                    [key], {});\n",
       "        if (!dataTable) return;\n",
       "\n",
       "        const docLinkHtml = 'Like what you see? Visit the ' +\n",
       "          '<a target=\"_blank\" href=https://colab.research.google.com/notebooks/data_table.ipynb>data table notebook</a>'\n",
       "          + ' to learn more about interactive tables.';\n",
       "        element.innerHTML = '';\n",
       "        dataTable['output_type'] = 'display_data';\n",
       "        await google.colab.output.renderOutput(dataTable, element);\n",
       "        const docLink = document.createElement('div');\n",
       "        docLink.innerHTML = docLinkHtml;\n",
       "        element.appendChild(docLink);\n",
       "      }\n",
       "    </script>\n",
       "  </div>\n",
       "\n",
       "\n",
       "<div id=\"df-c5a28421-60a3-42bd-a607-8d2da3f0a8cf\">\n",
       "  <button class=\"colab-df-quickchart\" onclick=\"quickchart('df-c5a28421-60a3-42bd-a607-8d2da3f0a8cf')\"\n",
       "            title=\"Suggest charts.\"\n",
       "            style=\"display:none;\">\n",
       "\n",
       "<svg xmlns=\"http://www.w3.org/2000/svg\" height=\"24px\"viewBox=\"0 0 24 24\"\n",
       "     width=\"24px\">\n",
       "    <g>\n",
       "        <path d=\"M19 3H5c-1.1 0-2 .9-2 2v14c0 1.1.9 2 2 2h14c1.1 0 2-.9 2-2V5c0-1.1-.9-2-2-2zM9 17H7v-7h2v7zm4 0h-2V7h2v10zm4 0h-2v-4h2v4z\"/>\n",
       "    </g>\n",
       "</svg>\n",
       "  </button>\n",
       "\n",
       "<style>\n",
       "  .colab-df-quickchart {\n",
       "      --bg-color: #E8F0FE;\n",
       "      --fill-color: #1967D2;\n",
       "      --hover-bg-color: #E2EBFA;\n",
       "      --hover-fill-color: #174EA6;\n",
       "      --disabled-fill-color: #AAA;\n",
       "      --disabled-bg-color: #DDD;\n",
       "  }\n",
       "\n",
       "  [theme=dark] .colab-df-quickchart {\n",
       "      --bg-color: #3B4455;\n",
       "      --fill-color: #D2E3FC;\n",
       "      --hover-bg-color: #434B5C;\n",
       "      --hover-fill-color: #FFFFFF;\n",
       "      --disabled-bg-color: #3B4455;\n",
       "      --disabled-fill-color: #666;\n",
       "  }\n",
       "\n",
       "  .colab-df-quickchart {\n",
       "    background-color: var(--bg-color);\n",
       "    border: none;\n",
       "    border-radius: 50%;\n",
       "    cursor: pointer;\n",
       "    display: none;\n",
       "    fill: var(--fill-color);\n",
       "    height: 32px;\n",
       "    padding: 0;\n",
       "    width: 32px;\n",
       "  }\n",
       "\n",
       "  .colab-df-quickchart:hover {\n",
       "    background-color: var(--hover-bg-color);\n",
       "    box-shadow: 0 1px 2px rgba(60, 64, 67, 0.3), 0 1px 3px 1px rgba(60, 64, 67, 0.15);\n",
       "    fill: var(--button-hover-fill-color);\n",
       "  }\n",
       "\n",
       "  .colab-df-quickchart-complete:disabled,\n",
       "  .colab-df-quickchart-complete:disabled:hover {\n",
       "    background-color: var(--disabled-bg-color);\n",
       "    fill: var(--disabled-fill-color);\n",
       "    box-shadow: none;\n",
       "  }\n",
       "\n",
       "  .colab-df-spinner {\n",
       "    border: 2px solid var(--fill-color);\n",
       "    border-color: transparent;\n",
       "    border-bottom-color: var(--fill-color);\n",
       "    animation:\n",
       "      spin 1s steps(1) infinite;\n",
       "  }\n",
       "\n",
       "  @keyframes spin {\n",
       "    0% {\n",
       "      border-color: transparent;\n",
       "      border-bottom-color: var(--fill-color);\n",
       "      border-left-color: var(--fill-color);\n",
       "    }\n",
       "    20% {\n",
       "      border-color: transparent;\n",
       "      border-left-color: var(--fill-color);\n",
       "      border-top-color: var(--fill-color);\n",
       "    }\n",
       "    30% {\n",
       "      border-color: transparent;\n",
       "      border-left-color: var(--fill-color);\n",
       "      border-top-color: var(--fill-color);\n",
       "      border-right-color: var(--fill-color);\n",
       "    }\n",
       "    40% {\n",
       "      border-color: transparent;\n",
       "      border-right-color: var(--fill-color);\n",
       "      border-top-color: var(--fill-color);\n",
       "    }\n",
       "    60% {\n",
       "      border-color: transparent;\n",
       "      border-right-color: var(--fill-color);\n",
       "    }\n",
       "    80% {\n",
       "      border-color: transparent;\n",
       "      border-right-color: var(--fill-color);\n",
       "      border-bottom-color: var(--fill-color);\n",
       "    }\n",
       "    90% {\n",
       "      border-color: transparent;\n",
       "      border-bottom-color: var(--fill-color);\n",
       "    }\n",
       "  }\n",
       "</style>\n",
       "\n",
       "  <script>\n",
       "    async function quickchart(key) {\n",
       "      const quickchartButtonEl =\n",
       "        document.querySelector('#' + key + ' button');\n",
       "      quickchartButtonEl.disabled = true;  // To prevent multiple clicks.\n",
       "      quickchartButtonEl.classList.add('colab-df-spinner');\n",
       "      try {\n",
       "        const charts = await google.colab.kernel.invokeFunction(\n",
       "            'suggestCharts', [key], {});\n",
       "      } catch (error) {\n",
       "        console.error('Error during call to suggestCharts:', error);\n",
       "      }\n",
       "      quickchartButtonEl.classList.remove('colab-df-spinner');\n",
       "      quickchartButtonEl.classList.add('colab-df-quickchart-complete');\n",
       "    }\n",
       "    (() => {\n",
       "      let quickchartButtonEl =\n",
       "        document.querySelector('#df-c5a28421-60a3-42bd-a607-8d2da3f0a8cf button');\n",
       "      quickchartButtonEl.style.display =\n",
       "        google.colab.kernel.accessAllowed ? 'block' : 'none';\n",
       "    })();\n",
       "  </script>\n",
       "</div>\n",
       "    </div>\n",
       "  </div>\n"
      ],
      "text/plain": [
       "     Blocking Approach N of Candidate Pairs\n",
       "0    Standard Blocking            1,338,965\n",
       "1       Token Blocking            2,501,622\n",
       "2  Sorted Neighborhood              382,296"
      ]
     },
     "execution_count": 22,
     "metadata": {},
     "output_type": "execute_result"
    }
   ],
   "source": [
    "pd.DataFrame(\n",
    "    [\n",
    "        [\"Standard Blocking\", f\"{len(sb_pairs):,}\"],\n",
    "        [\"Token Blocking\", f\"{len(tb_pairs):,}\"],\n",
    "        [\"Sorted Neighborhood\", f\"{len(sn_pairs):,}\"],\n",
    "    ],\n",
    "    columns=[\"Blocking Approach\", \"N of Candidate Pairs\"]\n",
    ")"
   ]
  },
  {
   "cell_type": "markdown",
   "metadata": {
    "id": "_440qSSqZORF"
   },
   "source": [
    "We will determine which one is the best for our data by looking at a matching result in the next section."
   ]
  },
  {
   "cell_type": "markdown",
   "metadata": {
    "id": "OfjjlEphQq_P"
   },
   "source": [
    "# Entity Matching <a class=\"anchor\" id=\"entity-matching\"></a>\n",
    "In this step, we identify matched pairs from the candidate pairs generated in the previous step. While there are various methods to find matches, one straightforward approach can be outlined as follows:\n",
    "\n",
    "\n",
    "**1. Measure similarity on each attribute**\n",
    "\n",
    "You can use any similarity metrics such as cosine similarity, Jaccard similarity, or Levenshtein distance similarity, based on suitability for your data or specific requirements. Text fields may want to be tokenized before computing similarity for some of the metrics.\n",
    "\n",
    "**2. Compute overall similarity**\n",
    "\n",
    "This step combines the per-attribute similarities into an overall similarity score either by applying manually defined rules or utilizing a machine learning model trained on labeled data if available.\n",
    "\n",
    "**3. Determine matches**\n",
    "\n",
    "A similarity threshold is applied to the overall similarity score to find matches\n",
    "\n",
    "<center><img src=\"https://github.com/tomonori-masui/entity-resolution/blob/main/images/06_entity_matching.png?raw=true\" width=\"750\" align=\"center\"></center>\n",
    "<center>Example of Entity Matching</center>\n",
    "\n",
    "The function `get_field_similarity_scores` below takes care of the step 1 above. If `sim_type` is set to `\"fuzzy\"`, it calculates [cosine similarity](https://en.wikipedia.org/wiki/Cosine_similarity); otherwise, it performs an exact match. The cosine similarity is calculated on character level 3-grams which are vectorized from input strings using the [`CountVectorizer`](https://scikit-learn.org/stable/modules/generated/sklearn.feature_extraction.text.CountVectorizer.html) module from scikit-learn. We compute the cosine similarity for the fields of `title`, `artist`, and `album`, while performing an exact match on `number` field."
   ]
  },
  {
   "cell_type": "code",
   "execution_count": 23,
   "metadata": {
    "id": "0OeecgjacKgI"
   },
   "outputs": [],
   "source": [
    "from sklearn.preprocessing import normalize\n",
    "from sklearn.feature_extraction.text import CountVectorizer\n",
    "\n",
    "\n",
    "def get_field_similarity_scores(\n",
    "    df: pd.DataFrame, pairs: np.ndarray, field_config: dict[str, str]\n",
    ") -> dict[str, np.ndarray]:\n",
    "    \"\"\"\n",
    "    Measuring similarity by field. It is either cosine similarity\n",
    "    (if sim_type == 'fuzzy') or exact match 0/1 (if sim_type == 'exact').\n",
    "    Attribute's similarity scores are stored in field_score dictionary\n",
    "    with the field name as key.\n",
    "    \"\"\"\n",
    "\n",
    "    field_scores = {}\n",
    "\n",
    "    for field, sim_type in field_config.items():\n",
    "        if sim_type == \"fuzzy\":\n",
    "            field_scores[field] = cosine_similarities(\n",
    "                df[field].fillna(\"\"), pairs\n",
    "            )\n",
    "        else:\n",
    "            field_scores[field] = exact_matches(df[field], pairs)\n",
    "\n",
    "    return field_scores\n",
    "\n",
    "def cosine_similarities(\n",
    "    field_values: pd.Series, pairs: np.ndarray\n",
    ") -> np.ndarray:\n",
    "    \"\"\"\n",
    "    Computing cosine similarities on pairs\n",
    "    \"\"\"\n",
    "\n",
    "    token_matrix_1, token_matrix_2 = get_token_matrix_pair(\n",
    "        field_values, pairs\n",
    "    )\n",
    "    cos_sim = cosine_similarities_on_pair_matrices(\n",
    "        token_matrix_1, token_matrix_2\n",
    "    )\n",
    "\n",
    "    return cos_sim\n",
    "\n",
    "def get_token_matrix_pair(\n",
    "    field_values: pd.Series, pairs: np.ndarray,\n",
    ") -> tuple[csr_matrix, csr_matrix]:\n",
    "    \"\"\"\n",
    "    Converting pairs into matrices of token counts (matrix of records\n",
    "    by tokens filled with token counts).\n",
    "    \"\"\"\n",
    "\n",
    "    all_idx = np.unique(pairs)\n",
    "    vectorizer = CountVectorizer(analyzer=\"char\", ngram_range=(3, 3))\n",
    "    vectorizer.fit(field_values.loc[all_idx])\n",
    "    token_matrix_1 = vectorizer.transform(field_values.loc[pairs[:, 0]])\n",
    "    token_matrix_2 = vectorizer.transform(field_values.loc[pairs[:, 1]])\n",
    "\n",
    "    return token_matrix_1, token_matrix_2\n",
    "\n",
    "def cosine_similarities_on_pair_matrices(\n",
    "    token_matrix_1: csr_matrix, token_matrix_2: csr_matrix\n",
    ") -> np.ndarray:\n",
    "    \"\"\"\n",
    "    Computing cosine similarities on pair of token count matrices.\n",
    "    It normalizes each record (axis=1) first, then computes dot product\n",
    "    for each pair of records.\n",
    "    \"\"\"\n",
    "\n",
    "    token_matrix_1 = normalize(token_matrix_1, axis=1)\n",
    "    token_matrix_2 = normalize(token_matrix_2, axis=1)\n",
    "    cos_sim = np.asarray(\n",
    "        token_matrix_1.multiply(token_matrix_2).sum(axis=1)\n",
    "    ).flatten()\n",
    "\n",
    "    return cos_sim\n",
    "\n",
    "def exact_matches(\n",
    "    field_values: pd.Series, pairs: np.ndarray\n",
    ") -> np.ndarray:\n",
    "    \"\"\"\n",
    "    Performing exact matches on pairs\n",
    "    \"\"\"\n",
    "\n",
    "    arr1 = field_values.loc[pairs[:, 0]].values\n",
    "    arr2 = field_values.loc[pairs[:, 1]].values\n",
    "\n",
    "    return ((arr1 == arr2) & (~pd.isna(arr1)) & (~pd.isna(arr2))).astype(int)"
   ]
  },
  {
   "cell_type": "code",
   "execution_count": 24,
   "metadata": {
    "id": "GOvCdz82vlvp"
   },
   "outputs": [],
   "source": [
    "field_config = {\n",
    "    # <field>: <sim_type>\n",
    "    \"title\": \"fuzzy\",\n",
    "    \"artist\": \"fuzzy\",\n",
    "    \"album\": \"fuzzy\",\n",
    "    \"number\": \"exact\",\n",
    "}\n",
    "\n",
    "field_scores_sb = get_field_similarity_scores(df, sb_pairs, field_config)"
   ]
  },
  {
   "cell_type": "markdown",
   "metadata": {
    "id": "DPaHrbWMboEm"
   },
   "source": [
    "## Rule-based matching\n",
    "\n",
    "<center><img src=\"https://github.com/tomonori-masui/entity-resolution/blob/main/images/07_rule_based_matching.png?raw=true\" width=\"750\"></center>\n",
    "<center>Rule-based matching</center>\n",
    "\n",
    "After computing field-specific similarity scores, we want to combine them into an overall similarity score, as outlined in step 2 above. We perform a very simple approach here: we just calculate the average of the attributes' scores, and subsequently, we apply a score threshold to identify matches (step 3). The threshold value below is already tuned here, but you may want to tune it by looking at some examples of matched/unmatched pairs when you work on your own dataset."
   ]
  },
  {
   "cell_type": "code",
   "execution_count": 25,
   "metadata": {
    "id": "4-AKyWffurV3"
   },
   "outputs": [],
   "source": [
    "def calc_overall_scores(field_scores: dict[str, np.ndarray]) -> np.ndarray:\n",
    "    return np.array(list(field_scores.values())).mean(axis=0)\n",
    "\n",
    "def find_matches(scores: np.ndarray, threshold: float) -> np.ndarray:\n",
    "    return scores >= threshold\n"
   ]
  },
  {
   "cell_type": "code",
   "execution_count": 26,
   "metadata": {
    "id": "BIN8NDqfvQYE"
   },
   "outputs": [],
   "source": [
    "scores_sb = calc_overall_scores(field_scores_sb)\n",
    "is_matched_sb = find_matches(scores_sb, threshold=0.64)"
   ]
  },
  {
   "cell_type": "markdown",
   "metadata": {
    "id": "xVCAU5iKcjie"
   },
   "source": [
    "The code above performs matching on the pairs from the standard block. Additionally, we extend this matching process to the pairs from the token block and the sorted neighborhood, allowing us to compare their performances."
   ]
  },
  {
   "cell_type": "code",
   "execution_count": 27,
   "metadata": {
    "id": "Wozg3IFlxJ8D"
   },
   "outputs": [],
   "source": [
    "field_scores_tb = get_field_similarity_scores(df, tb_pairs, field_config)\n",
    "scores_tb = calc_overall_scores(field_scores_tb)\n",
    "is_matched_tb = find_matches(scores_tb, threshold=0.64)"
   ]
  },
  {
   "cell_type": "code",
   "execution_count": 28,
   "metadata": {
    "id": "X1rk0_C4csrb"
   },
   "outputs": [],
   "source": [
    "field_scores_sn = get_field_similarity_scores(df, sn_pairs, field_config)\n",
    "scores_sn = calc_overall_scores(field_scores_sn)\n",
    "is_matched_sn = find_matches(scores_sn, threshold=0.64)"
   ]
  },
  {
   "cell_type": "markdown",
   "metadata": {
    "id": "DJZZ1tPgc3z6"
   },
   "source": [
    "The code below summarizes the comparison in a table."
   ]
  },
  {
   "cell_type": "code",
   "execution_count": 29,
   "metadata": {
    "id": "dbcxUODfbWK0"
   },
   "outputs": [],
   "source": [
    "from IPython.display import display\n",
    "from collections import Counter\n",
    "\n",
    "def show_results(\n",
    "    is_matched_list: list[np.ndarray],\n",
    "    blocking_approach_name_list: list[str],\n",
    "):\n",
    "\n",
    "    result = pd.DataFrame(\n",
    "        [Counter(is_matched).values() for is_matched in is_matched_list],\n",
    "        columns=[\"Unmatch\", \"Match\"],\n",
    "    )\n",
    "    result[\"Blocking Approach\"] = blocking_approach_name_list\n",
    "    result[\"Matching Rate\"] = result.Match / (\n",
    "        result.Match + result.Unmatch\n",
    "    )\n",
    "    result[\"Matching Rate\"] = result[\"Matching Rate\"].map(\"{:.1%}\".format)\n",
    "    result[\"Match\"] = result[\"Match\"].map(\"{:,}\".format)\n",
    "    result[\"Unmatch\"] = result[\"Unmatch\"].map(\"{:,}\".format)\n",
    "\n",
    "    display(\n",
    "        result[[\"Blocking Approach\", \"Match\", \"Unmatch\", \"Matching Rate\"]]\n",
    "    )"
   ]
  },
  {
   "cell_type": "code",
   "execution_count": 30,
   "metadata": {
    "colab": {
     "base_uri": "https://localhost:8080/",
     "height": 143
    },
    "id": "R8fbg-zXw2JO",
    "outputId": "41f65021-eb6d-49a8-d5e9-92ce6b252836"
   },
   "outputs": [
    {
     "data": {
      "text/html": [
       "\n",
       "  <div id=\"df-ea79dc64-2ba5-46db-80ac-e53d32326d68\" class=\"colab-df-container\">\n",
       "    <div>\n",
       "<style scoped>\n",
       "    .dataframe tbody tr th:only-of-type {\n",
       "        vertical-align: middle;\n",
       "    }\n",
       "\n",
       "    .dataframe tbody tr th {\n",
       "        vertical-align: top;\n",
       "    }\n",
       "\n",
       "    .dataframe thead th {\n",
       "        text-align: right;\n",
       "    }\n",
       "</style>\n",
       "<table border=\"1\" class=\"dataframe\">\n",
       "  <thead>\n",
       "    <tr style=\"text-align: right;\">\n",
       "      <th></th>\n",
       "      <th>Blocking Approach</th>\n",
       "      <th>Match</th>\n",
       "      <th>Unmatch</th>\n",
       "      <th>Matching Rate</th>\n",
       "    </tr>\n",
       "  </thead>\n",
       "  <tbody>\n",
       "    <tr>\n",
       "      <th>0</th>\n",
       "      <td>Standard Blocking</td>\n",
       "      <td>58,303</td>\n",
       "      <td>1,280,662</td>\n",
       "      <td>4.4%</td>\n",
       "    </tr>\n",
       "    <tr>\n",
       "      <th>1</th>\n",
       "      <td>Token Blocking</td>\n",
       "      <td>66,765</td>\n",
       "      <td>2,434,857</td>\n",
       "      <td>2.7%</td>\n",
       "    </tr>\n",
       "    <tr>\n",
       "      <th>2</th>\n",
       "      <td>Sorted Neighborhood</td>\n",
       "      <td>23,875</td>\n",
       "      <td>358,421</td>\n",
       "      <td>6.2%</td>\n",
       "    </tr>\n",
       "  </tbody>\n",
       "</table>\n",
       "</div>\n",
       "    <div class=\"colab-df-buttons\">\n",
       "\n",
       "  <div class=\"colab-df-container\">\n",
       "    <button class=\"colab-df-convert\" onclick=\"convertToInteractive('df-ea79dc64-2ba5-46db-80ac-e53d32326d68')\"\n",
       "            title=\"Convert this dataframe to an interactive table.\"\n",
       "            style=\"display:none;\">\n",
       "\n",
       "  <svg xmlns=\"http://www.w3.org/2000/svg\" height=\"24px\" viewBox=\"0 -960 960 960\">\n",
       "    <path d=\"M120-120v-720h720v720H120Zm60-500h600v-160H180v160Zm220 220h160v-160H400v160Zm0 220h160v-160H400v160ZM180-400h160v-160H180v160Zm440 0h160v-160H620v160ZM180-180h160v-160H180v160Zm440 0h160v-160H620v160Z\"/>\n",
       "  </svg>\n",
       "    </button>\n",
       "\n",
       "  <style>\n",
       "    .colab-df-container {\n",
       "      display:flex;\n",
       "      gap: 12px;\n",
       "    }\n",
       "\n",
       "    .colab-df-convert {\n",
       "      background-color: #E8F0FE;\n",
       "      border: none;\n",
       "      border-radius: 50%;\n",
       "      cursor: pointer;\n",
       "      display: none;\n",
       "      fill: #1967D2;\n",
       "      height: 32px;\n",
       "      padding: 0 0 0 0;\n",
       "      width: 32px;\n",
       "    }\n",
       "\n",
       "    .colab-df-convert:hover {\n",
       "      background-color: #E2EBFA;\n",
       "      box-shadow: 0px 1px 2px rgba(60, 64, 67, 0.3), 0px 1px 3px 1px rgba(60, 64, 67, 0.15);\n",
       "      fill: #174EA6;\n",
       "    }\n",
       "\n",
       "    .colab-df-buttons div {\n",
       "      margin-bottom: 4px;\n",
       "    }\n",
       "\n",
       "    [theme=dark] .colab-df-convert {\n",
       "      background-color: #3B4455;\n",
       "      fill: #D2E3FC;\n",
       "    }\n",
       "\n",
       "    [theme=dark] .colab-df-convert:hover {\n",
       "      background-color: #434B5C;\n",
       "      box-shadow: 0px 1px 3px 1px rgba(0, 0, 0, 0.15);\n",
       "      filter: drop-shadow(0px 1px 2px rgba(0, 0, 0, 0.3));\n",
       "      fill: #FFFFFF;\n",
       "    }\n",
       "  </style>\n",
       "\n",
       "    <script>\n",
       "      const buttonEl =\n",
       "        document.querySelector('#df-ea79dc64-2ba5-46db-80ac-e53d32326d68 button.colab-df-convert');\n",
       "      buttonEl.style.display =\n",
       "        google.colab.kernel.accessAllowed ? 'block' : 'none';\n",
       "\n",
       "      async function convertToInteractive(key) {\n",
       "        const element = document.querySelector('#df-ea79dc64-2ba5-46db-80ac-e53d32326d68');\n",
       "        const dataTable =\n",
       "          await google.colab.kernel.invokeFunction('convertToInteractive',\n",
       "                                                    [key], {});\n",
       "        if (!dataTable) return;\n",
       "\n",
       "        const docLinkHtml = 'Like what you see? Visit the ' +\n",
       "          '<a target=\"_blank\" href=https://colab.research.google.com/notebooks/data_table.ipynb>data table notebook</a>'\n",
       "          + ' to learn more about interactive tables.';\n",
       "        element.innerHTML = '';\n",
       "        dataTable['output_type'] = 'display_data';\n",
       "        await google.colab.output.renderOutput(dataTable, element);\n",
       "        const docLink = document.createElement('div');\n",
       "        docLink.innerHTML = docLinkHtml;\n",
       "        element.appendChild(docLink);\n",
       "      }\n",
       "    </script>\n",
       "  </div>\n",
       "\n",
       "\n",
       "<div id=\"df-5c7e90d8-79d2-416b-97a7-3467b3efb7e4\">\n",
       "  <button class=\"colab-df-quickchart\" onclick=\"quickchart('df-5c7e90d8-79d2-416b-97a7-3467b3efb7e4')\"\n",
       "            title=\"Suggest charts.\"\n",
       "            style=\"display:none;\">\n",
       "\n",
       "<svg xmlns=\"http://www.w3.org/2000/svg\" height=\"24px\"viewBox=\"0 0 24 24\"\n",
       "     width=\"24px\">\n",
       "    <g>\n",
       "        <path d=\"M19 3H5c-1.1 0-2 .9-2 2v14c0 1.1.9 2 2 2h14c1.1 0 2-.9 2-2V5c0-1.1-.9-2-2-2zM9 17H7v-7h2v7zm4 0h-2V7h2v10zm4 0h-2v-4h2v4z\"/>\n",
       "    </g>\n",
       "</svg>\n",
       "  </button>\n",
       "\n",
       "<style>\n",
       "  .colab-df-quickchart {\n",
       "      --bg-color: #E8F0FE;\n",
       "      --fill-color: #1967D2;\n",
       "      --hover-bg-color: #E2EBFA;\n",
       "      --hover-fill-color: #174EA6;\n",
       "      --disabled-fill-color: #AAA;\n",
       "      --disabled-bg-color: #DDD;\n",
       "  }\n",
       "\n",
       "  [theme=dark] .colab-df-quickchart {\n",
       "      --bg-color: #3B4455;\n",
       "      --fill-color: #D2E3FC;\n",
       "      --hover-bg-color: #434B5C;\n",
       "      --hover-fill-color: #FFFFFF;\n",
       "      --disabled-bg-color: #3B4455;\n",
       "      --disabled-fill-color: #666;\n",
       "  }\n",
       "\n",
       "  .colab-df-quickchart {\n",
       "    background-color: var(--bg-color);\n",
       "    border: none;\n",
       "    border-radius: 50%;\n",
       "    cursor: pointer;\n",
       "    display: none;\n",
       "    fill: var(--fill-color);\n",
       "    height: 32px;\n",
       "    padding: 0;\n",
       "    width: 32px;\n",
       "  }\n",
       "\n",
       "  .colab-df-quickchart:hover {\n",
       "    background-color: var(--hover-bg-color);\n",
       "    box-shadow: 0 1px 2px rgba(60, 64, 67, 0.3), 0 1px 3px 1px rgba(60, 64, 67, 0.15);\n",
       "    fill: var(--button-hover-fill-color);\n",
       "  }\n",
       "\n",
       "  .colab-df-quickchart-complete:disabled,\n",
       "  .colab-df-quickchart-complete:disabled:hover {\n",
       "    background-color: var(--disabled-bg-color);\n",
       "    fill: var(--disabled-fill-color);\n",
       "    box-shadow: none;\n",
       "  }\n",
       "\n",
       "  .colab-df-spinner {\n",
       "    border: 2px solid var(--fill-color);\n",
       "    border-color: transparent;\n",
       "    border-bottom-color: var(--fill-color);\n",
       "    animation:\n",
       "      spin 1s steps(1) infinite;\n",
       "  }\n",
       "\n",
       "  @keyframes spin {\n",
       "    0% {\n",
       "      border-color: transparent;\n",
       "      border-bottom-color: var(--fill-color);\n",
       "      border-left-color: var(--fill-color);\n",
       "    }\n",
       "    20% {\n",
       "      border-color: transparent;\n",
       "      border-left-color: var(--fill-color);\n",
       "      border-top-color: var(--fill-color);\n",
       "    }\n",
       "    30% {\n",
       "      border-color: transparent;\n",
       "      border-left-color: var(--fill-color);\n",
       "      border-top-color: var(--fill-color);\n",
       "      border-right-color: var(--fill-color);\n",
       "    }\n",
       "    40% {\n",
       "      border-color: transparent;\n",
       "      border-right-color: var(--fill-color);\n",
       "      border-top-color: var(--fill-color);\n",
       "    }\n",
       "    60% {\n",
       "      border-color: transparent;\n",
       "      border-right-color: var(--fill-color);\n",
       "    }\n",
       "    80% {\n",
       "      border-color: transparent;\n",
       "      border-right-color: var(--fill-color);\n",
       "      border-bottom-color: var(--fill-color);\n",
       "    }\n",
       "    90% {\n",
       "      border-color: transparent;\n",
       "      border-bottom-color: var(--fill-color);\n",
       "    }\n",
       "  }\n",
       "</style>\n",
       "\n",
       "  <script>\n",
       "    async function quickchart(key) {\n",
       "      const quickchartButtonEl =\n",
       "        document.querySelector('#' + key + ' button');\n",
       "      quickchartButtonEl.disabled = true;  // To prevent multiple clicks.\n",
       "      quickchartButtonEl.classList.add('colab-df-spinner');\n",
       "      try {\n",
       "        const charts = await google.colab.kernel.invokeFunction(\n",
       "            'suggestCharts', [key], {});\n",
       "      } catch (error) {\n",
       "        console.error('Error during call to suggestCharts:', error);\n",
       "      }\n",
       "      quickchartButtonEl.classList.remove('colab-df-spinner');\n",
       "      quickchartButtonEl.classList.add('colab-df-quickchart-complete');\n",
       "    }\n",
       "    (() => {\n",
       "      let quickchartButtonEl =\n",
       "        document.querySelector('#df-5c7e90d8-79d2-416b-97a7-3467b3efb7e4 button');\n",
       "      quickchartButtonEl.style.display =\n",
       "        google.colab.kernel.accessAllowed ? 'block' : 'none';\n",
       "    })();\n",
       "  </script>\n",
       "</div>\n",
       "    </div>\n",
       "  </div>\n"
      ],
      "text/plain": [
       "     Blocking Approach   Match    Unmatch Matching Rate\n",
       "0    Standard Blocking  58,303  1,280,662          4.4%\n",
       "1       Token Blocking  66,765  2,434,857          2.7%\n",
       "2  Sorted Neighborhood  23,875    358,421          6.2%"
      ]
     },
     "metadata": {},
     "output_type": "display_data"
    }
   ],
   "source": [
    "is_matched_list = [is_matched_sb, is_matched_tb, is_matched_sn]\n",
    "blocking_approach_name_list = [\n",
    "    \"Standard Blocking\",\n",
    "    \"Token Blocking\",\n",
    "    \"Sorted Neighborhood\",\n",
    "]\n",
    "show_results(is_matched_list, blocking_approach_name_list)"
   ]
  },
  {
   "cell_type": "markdown",
   "metadata": {
    "id": "JuQ3wHFcdAj2"
   },
   "source": [
    "As you can see in the table, Token Blocking yields the highest number of matches, while Sorted Neighborhood has the highest matching rate. As Token Blocking likely has the fewest missed matches, we will proceed with the outcome from this approach. It is worth noting that our small dataset does not present scalability concerns. However, for larger datasets where Token Blocking may not be feasible, you may want to consider the other more scalable approaches."
   ]
  },
  {
   "cell_type": "markdown",
   "metadata": {
    "id": "5zNUJxttjoAN"
   },
   "source": [
    "## Machine-learning matching\n",
    "\n",
    "<center><img src=\"https://github.com/tomonori-masui/entity-resolution/blob/main/images/08_machine_learning_matching_.png?raw=true\" width=\"750\"></center>\n",
    "<center>Machine-learning matching</center>\n",
    "\n",
    "If you have labeled data or have manually labeled sample pairs as matches or non-matches, you can train a machine-learning model to predict matched pairs. As our data has cluster labels `CID`, we will convert these into matching labels (match/unmatch) for pairs and train a machine-learning model, subsequently comparing its performance with the rule-based approach performed in the previous section.\n",
    "\n",
    "The following code generates the model input `X` and the corresponding target variable `y`. Pairs within the same cluster `CID` are designated as matches (`y = 1`), while pairs outside the same cluster are labeled as non-matches (`y = 0`)."
   ]
  },
  {
   "cell_type": "code",
   "execution_count": 31,
   "metadata": {
    "id": "0bKxvEV5dq7U"
   },
   "outputs": [],
   "source": [
    "def get_x_y(\n",
    "    field_scores: dict[str, np.ndarray],\n",
    "    pairs: np.ndarray,\n",
    "    df: pd.DataFrame,\n",
    ") -> tuple[pd.DataFrame, np.ndarray]:\n",
    "\n",
    "    X = pd.DataFrame(field_scores)\n",
    "    y = df.loc[pairs[:, 0], \"CID\"].values == df.loc[pairs[:, 1], \"CID\"].values\n",
    "\n",
    "    return X, y\n",
    "\n",
    "X, y = get_x_y(field_scores_tb, tb_pairs, df)"
   ]
  },
  {
   "cell_type": "markdown",
   "metadata": {
    "id": "qLsGg_wSds2z"
   },
   "source": [
    "Next, we split them into training and testing sets, followed by training a logistic regression model."
   ]
  },
  {
   "cell_type": "code",
   "execution_count": 32,
   "metadata": {
    "id": "g5NsPztfllTY"
   },
   "outputs": [],
   "source": [
    "from sklearn.model_selection import train_test_split\n",
    "from sklearn.linear_model import LogisticRegression\n",
    "\n",
    "X_train, X_test, y_train, y_test = train_test_split(\n",
    "    X, y, test_size=0.5, random_state=42\n",
    ")\n",
    "\n",
    "model = LogisticRegression(random_state=0).fit(X_train, y_train)"
   ]
  },
  {
   "cell_type": "markdown",
   "metadata": {
    "id": "GfAikN1Ydzxo"
   },
   "source": [
    "The code below compares its performance ([`f1_score`](https://scikit-learn.org/stable/modules/generated/sklearn.metrics.f1_score.html)) with the rule-based  approach."
   ]
  },
  {
   "cell_type": "code",
   "execution_count": 33,
   "metadata": {
    "colab": {
     "base_uri": "https://localhost:8080/"
    },
    "id": "aPyoCDwSd_rJ",
    "outputId": "2b32687d-0cff-4178-f5b1-f5c900d0576a"
   },
   "outputs": [
    {
     "name": "stdout",
     "output_type": "stream",
     "text": [
      "Model f1_score: 0.866\n",
      "Rule-base f1_score: 0.721\n"
     ]
    }
   ],
   "source": [
    "from sklearn.metrics import f1_score\n",
    "\n",
    "y_pred = model.predict(X_test)\n",
    "print(f\"Model f1_score: {f1_score(y_test, y_pred):.3f}\")\n",
    "\n",
    "y_rule_base = is_matched_tb[X_test.index.values]\n",
    "print(f\"Rule-base f1_score: {f1_score(y_test, y_rule_base):.3f}\")"
   ]
  },
  {
   "cell_type": "markdown",
   "metadata": {
    "id": "Blioxx45eI88"
   },
   "source": [
    "While the model's performance is better, the performance of the rule-based approach may still be reasonably good.\n",
    "\n",
    "For the following steps, we will use matches identified through the rule-based approach, considering that in many real-world cases, manual data labeling might not be practical due to resource constraints. The code below extracts matched pairs and their similarity scores from the candidate pairs and their scores on token blocking."
   ]
  },
  {
   "cell_type": "code",
   "execution_count": 34,
   "metadata": {
    "id": "EKp62M15x3if"
   },
   "outputs": [],
   "source": [
    "matched_pairs = tb_pairs[is_matched_tb]\n",
    "matched_scores = scores_tb[is_matched_tb]"
   ]
  },
  {
   "cell_type": "markdown",
   "metadata": {
    "id": "4Vt3QH8ixhsW"
   },
   "source": [
    "# Clustering <a class=\"anchor\" id=\"clustering\"></a>\n",
    "In this step, we are creating entity clusters based on the matched pairs from the previous step. Each cluster includes all records corresponding to a distinct real-world entity.\n",
    "\n",
    "Clustering for entity resolution has several requirements:\n",
    "\n",
    "**1. Unconstrained algorithm**\n",
    "\n",
    "The algorithms should not require any domain-specific parameters as input, such as the number of clusters or the diameter of the clusters.\n",
    "\n",
    "**2. Capability of handling an incomplete similarity matrix**\n",
    "\n",
    "As the entity resolution process does not compute similarity on every possible pair (which could be described as an N by N matrix), the algorithms must be able to handle an incomplete similarity matrix (or a list of matched pairs).\n",
    "\n",
    "**3. Scalability**\n",
    "\n",
    "Entity resolution often handles sizable datasets, making it important that algorithms are capable of handling such data. In cases of large data, algorithms having high complexity like hierarchical clustering might not be practical.\n",
    "\n",
    "For the clustering, we will examine three major single-pass clustering algorithms: Partitioning (i.e. connected components), Center Clustering, and Merge-Center Clustering, all of which satisfy the requirements. These algorithms are highly efficient as they create clusters by a single scan (or O(n) complexity) of the list of candidate pairs, although some of them require the list to be sorted by similarity score.\n",
    "\n",
    "![image.png](data:image/png;base64,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)\n",
    "<center>Single-pass clustering algorithms (source: http://www.vldb.org/pvldb/vol2/vldb09-1025.pdf)</center>"
   ]
  },
  {
   "cell_type": "markdown",
   "metadata": {
    "id": "0C-6Fl29gXHl"
   },
   "source": [
    "## Partitioning/Connected Components\n",
    "This algorithm initiates clustering by initially assigning each node to its individual cluster. Then, it conducts a single scan of the list of matched pairs. If it identifies connected nodes that do not belong to the same cluster, it merges their clusters. In short, it forms a cluster by grouping all the connected nodes via edges (i.e. matched records via pairs). The algorithm may create clusters that connect dissimilar records via long paths.\n",
    "\n",
    "Connected components clustering can be performed using the Scipy module as you can see in the code below. Before performing it, you want to convert the list of pairs into an adjacency matrix."
   ]
  },
  {
   "cell_type": "code",
   "execution_count": 35,
   "metadata": {
    "id": "bGTFX3czcKgJ"
   },
   "outputs": [],
   "source": [
    "from scipy.sparse.csgraph import connected_components\n",
    "\n",
    "def connected_components_from_pairs(\n",
    "    pairs: np.ndarray, dim: int\n",
    ") -> np.ndarray:\n",
    "\n",
    "    adjacency_matrix = get_adjacency_matrix_from_pairs(pairs, (dim, dim))\n",
    "    _, clusters = connected_components(\n",
    "        csgraph=adjacency_matrix, directed=False, return_labels=True\n",
    "    )\n",
    "\n",
    "    return clusters"
   ]
  },
  {
   "cell_type": "code",
   "execution_count": 36,
   "metadata": {
    "id": "KY9a9l6ecKgJ"
   },
   "outputs": [],
   "source": [
    "cc_clusters = connected_components_from_pairs(matched_pairs, len(df))"
   ]
  },
  {
   "cell_type": "markdown",
   "metadata": {
    "id": "NPl7k6rKgfVU"
   },
   "source": [
    "## Center Clustering\n",
    "This algorithm [5] performs clustering where each cluster has a center and all records in each cluster are similar to the center of the cluster. It requires the list of similar pairs to be sorted by descending order of similarity scores. The algorithm then performs clustering by a single scan of the sorted list. When a node `u` is encountered for the first time in the scan, it's designated as the cluster center. Any subsequent nodes `v` that are similar to `u` (i.e., appear in a pair `(u, v)` in the list) are assigned to the cluster of `u` and are not considered again during the process.\n",
    "\n",
    "<center><img src=\"https://github.com/tomonori-masui/entity-resolution/blob/main/images/09_center_clustering.gif?raw=true\" width=\"750\"></center>\n",
    "<center>Example of Center Clustering</center>"
   ]
  },
  {
   "cell_type": "markdown",
   "metadata": {
    "id": "PMcgIB3khAmr"
   },
   "source": [
    "## Merge-Center Clustering\n",
    "This algorithm [6] performs similarly to Center clustering, but merges two clusters `cᵢ` and `cⱼ` whenever a record that is similar to the center of the cluster `cᵢ` is similar to the center of `cⱼ`. Note that when two clusters are merged, it does not choose a single center node, which means that merged clusters can have multiple center nodes. This algorithm can be performed similarly by a single scan of the list of similar pairs, but by keeping track of the records that are connected through a merged cluster.\n",
    "\n",
    "<center><img src=\"https://github.com/tomonori-masui/entity-resolution/blob/main/images/10_merge_center_clustering.gif?raw=true\" width=\"750\"></center>\n",
    "<center>Example of Merge-Center Clustering</center>\n",
    "\n",
    "To perform Center/Merge-Center clustering, we first need to sort the list of pairs by descending order of the similarity scores."
   ]
  },
  {
   "cell_type": "code",
   "execution_count": 37,
   "metadata": {
    "id": "LNabacPRc4yo"
   },
   "outputs": [],
   "source": [
    "def sort_pairs(pairs: np.ndarray, scores: np.ndarray) -> np.ndarray:\n",
    "    sorted_ids = (-1 * scores).argsort()\n",
    "    return pairs[sorted_ids]\n",
    "\n",
    "pairs_sored = sort_pairs(matched_pairs, matched_scores)"
   ]
  },
  {
   "cell_type": "markdown",
   "metadata": {
    "id": "PoJKgQT6hdfT"
   },
   "source": [
    "Next, the code below yields two sets of pairs: center-child pairs, denoted as `center_cluster_pairs`, and merged node pairs, referred to as `merge_cluster_pairs`. We can then generate Center clusters and Merge-Center clusters by applying connected components to these lists of pairs."
   ]
  },
  {
   "cell_type": "code",
   "execution_count": 38,
   "metadata": {
    "id": "eMiC1ltHtMM4"
   },
   "outputs": [],
   "source": [
    "def get_center_cluster_pairs(pairs, dim):\n",
    "\n",
    "    \"\"\"\n",
    "    cluster_centers:\n",
    "        list tracking cluster center for each record.\n",
    "        indices of the list correspond to the original df indices\n",
    "        and the values represent assigned cluster centers' indices\n",
    "    center_cluster_pairs:\n",
    "        list of pairs of indices representing center-child pairs\n",
    "    merge_cluster_pairs:\n",
    "        list of pairs of merged nodes' indices\n",
    "    \"\"\"\n",
    "    cluster_centers = [None] * dim\n",
    "    center_cluster_pairs = []\n",
    "    merge_cluster_pairs = []\n",
    "\n",
    "    for idx1, idx2 in pairs:\n",
    "\n",
    "        if (\n",
    "            cluster_centers[idx1] is None\n",
    "            or cluster_centers[idx1] == idx1\n",
    "            or cluster_centers[idx2] is None\n",
    "            or cluster_centers[idx2] == idx2\n",
    "        ):\n",
    "            # if both aren't child, those nodes are merged\n",
    "            merge_cluster_pairs.append([idx1, idx2])\n",
    "\n",
    "        if cluster_centers[idx1] is None and cluster_centers[idx2] is None:\n",
    "            # if both weren't seen before, idx1 becomes center and idx2 gets child\n",
    "            cluster_centers[idx1] = idx1\n",
    "            cluster_centers[idx2] = idx1\n",
    "            center_cluster_pairs.append([idx1, idx2])\n",
    "        elif cluster_centers[idx2] is None:\n",
    "            if cluster_centers[idx1] == idx1:\n",
    "                # if idx1 is center, idx2 is assigned to that cluster\n",
    "                cluster_centers[idx2] = idx1\n",
    "                center_cluster_pairs.append([idx1, idx2])\n",
    "            else:\n",
    "                # if idx1 is not center, idx2 becomes new center\n",
    "                cluster_centers[idx2] = idx2\n",
    "        elif cluster_centers[idx1] is None:\n",
    "            if cluster_centers[idx2] == idx2:\n",
    "                # if idx2 is center, idx1 is assigned to that cluster\n",
    "                cluster_centers[idx1] = idx2\n",
    "                center_cluster_pairs.append([idx1, idx2])\n",
    "            else:\n",
    "                # if idx2 is not center, idx1 becomes new center\n",
    "                cluster_centers[idx1] = idx1\n",
    "\n",
    "    return center_cluster_pairs, merge_cluster_pairs"
   ]
  },
  {
   "cell_type": "code",
   "execution_count": 39,
   "metadata": {
    "id": "P3WOLWcv0kDR"
   },
   "outputs": [],
   "source": [
    "center_cluster_pairs, merge_cluster_pairs = get_center_cluster_pairs(pairs_sored, len(df))\n",
    "ct_clusters = connected_components_from_pairs(center_cluster_pairs, len(df))\n",
    "mc_clusters = connected_components_from_pairs(merge_cluster_pairs, len(df))"
   ]
  },
  {
   "cell_type": "markdown",
   "metadata": {
    "id": "ScXARgZShqPh"
   },
   "source": [
    "# Cluster Evaluation <a class=\"anchor\" id=\"cluster-evaluation\"></a>\n",
    "As we have the cluster labels, we can evaluate the quality of the clusters using [`Rand Index`](https://scikit-learn.org/stable/modules/generated/sklearn.metrics.rand_score.html) or [`adjusted Rand Index`](https://scikit-learn.org/stable/modules/generated/sklearn.metrics.adjusted_rand_score.html).\n",
    "Rand Index is a cluster evaluation metric that represents the proportion of pairs that are correctly clustered together or apart. It is defined as follows:\n",
    "\n",
    "*TP = Number of pairs that are clustered **together** in both predicted and true clusters.*\n",
    "\n",
    "*TN = Number of pairs that are clustered **apart** in both predicted and true clusters.*\n",
    "\n",
    "*Rand Index = (TP + TN) / Total number of possible pairs*\n",
    "\n",
    "<center><img src=\"https://github.com/tomonori-masui/entity-resolution/blob/main/images/11_rand_index.png?raw=true\" width=\"750\"></center>\n",
    "<center>Example of Rand Index Calculation</center>\n",
    "\n",
    "Adjusted Rand Index is a modified version of Rand Index that is corrected for chance. The adjustment accounts for the possibility of random agreement from clustering results that were randomly assigned.\n",
    "\n",
    "$$ Adjusted Index = {Index - Expected Index \\over Max Index - Expected Index} $$\n",
    "\n",
    "We won't delve into how each term in the above equation is calculated here, but anyone who is interested in this topic can refer to [the paper from KY Yeung](https://faculty.washington.edu/kayee/pca/supp.pdf) which explains the metric with some examples.\n",
    "\n",
    "The code below gives us a comparison of the clusters using those metrics along with some additional basic statistics."
   ]
  },
  {
   "cell_type": "code",
   "execution_count": 40,
   "metadata": {
    "id": "s8AYja1eZqRg"
   },
   "outputs": [],
   "source": [
    "from sklearn.metrics.cluster import rand_score, adjusted_rand_score\n",
    "from IPython.display import display\n",
    "\n",
    "def get_stats(labels, clusters):\n",
    "\n",
    "    stats = []\n",
    "    stats.append(f\"{rand_score(labels, clusters):.3f}\")\n",
    "    stats.append(f\"{adjusted_rand_score(labels, clusters):.3f}\")\n",
    "    clus_dist = pd.Series(clusters).value_counts()\n",
    "    stats.append(f\"{len(clus_dist):,}\")\n",
    "    stats.append(f\"{clus_dist.mean():.3f}\")\n",
    "    stats.append(f\"{clus_dist.min():,}\")\n",
    "    stats.append(f\"{clus_dist.max():,}\")\n",
    "\n",
    "    return stats\n",
    "\n",
    "\n",
    "def compare_clusters(cluster_list, cluster_names, labels):\n",
    "\n",
    "    stats_dict = {}\n",
    "    for clusters, name in zip(cluster_list, cluster_names):\n",
    "        stats = get_stats(labels, clusters)\n",
    "        stats_dict[name] = stats\n",
    "\n",
    "    display(\n",
    "        pd.DataFrame(\n",
    "            stats_dict,\n",
    "            index=[\n",
    "                \"Rand Index\",\n",
    "                \"Adjusted Rand Index\",\n",
    "                \"Cluster Count\",\n",
    "                \"Mean Cluster Size\",\n",
    "                \"Min Cluster Size\",\n",
    "                \"Max Cluster Size\",\n",
    "            ],\n",
    "        )\n",
    "    )"
   ]
  },
  {
   "cell_type": "code",
   "execution_count": 41,
   "metadata": {
    "colab": {
     "base_uri": "https://localhost:8080/",
     "height": 238
    },
    "id": "KfvA8oksu5j2",
    "outputId": "0c99a0a1-4425-4cb1-dd46-e033c1bfde53"
   },
   "outputs": [
    {
     "data": {
      "text/html": [
       "\n",
       "  <div id=\"df-44fd1a35-ce89-4921-97fb-cdf19e8c6d8d\" class=\"colab-df-container\">\n",
       "    <div>\n",
       "<style scoped>\n",
       "    .dataframe tbody tr th:only-of-type {\n",
       "        vertical-align: middle;\n",
       "    }\n",
       "\n",
       "    .dataframe tbody tr th {\n",
       "        vertical-align: top;\n",
       "    }\n",
       "\n",
       "    .dataframe thead th {\n",
       "        text-align: right;\n",
       "    }\n",
       "</style>\n",
       "<table border=\"1\" class=\"dataframe\">\n",
       "  <thead>\n",
       "    <tr style=\"text-align: right;\">\n",
       "      <th></th>\n",
       "      <th>Connected Components</th>\n",
       "      <th>Center</th>\n",
       "      <th>Merge-Center</th>\n",
       "    </tr>\n",
       "  </thead>\n",
       "  <tbody>\n",
       "    <tr>\n",
       "      <th>Rand Index</th>\n",
       "      <td>1.000</td>\n",
       "      <td>1.000</td>\n",
       "      <td>1.000</td>\n",
       "    </tr>\n",
       "    <tr>\n",
       "      <th>Adjusted Rand Index</th>\n",
       "      <td>0.782</td>\n",
       "      <td>0.591</td>\n",
       "      <td>0.784</td>\n",
       "    </tr>\n",
       "    <tr>\n",
       "      <th>Cluster Count</th>\n",
       "      <td>79,229</td>\n",
       "      <td>90,994</td>\n",
       "      <td>79,267</td>\n",
       "    </tr>\n",
       "    <tr>\n",
       "      <th>Mean Cluster Size</th>\n",
       "      <td>1.609</td>\n",
       "      <td>1.401</td>\n",
       "      <td>1.608</td>\n",
       "    </tr>\n",
       "    <tr>\n",
       "      <th>Min Cluster Size</th>\n",
       "      <td>1</td>\n",
       "      <td>1</td>\n",
       "      <td>1</td>\n",
       "    </tr>\n",
       "    <tr>\n",
       "      <th>Max Cluster Size</th>\n",
       "      <td>86</td>\n",
       "      <td>6</td>\n",
       "      <td>86</td>\n",
       "    </tr>\n",
       "  </tbody>\n",
       "</table>\n",
       "</div>\n",
       "    <div class=\"colab-df-buttons\">\n",
       "\n",
       "  <div class=\"colab-df-container\">\n",
       "    <button class=\"colab-df-convert\" onclick=\"convertToInteractive('df-44fd1a35-ce89-4921-97fb-cdf19e8c6d8d')\"\n",
       "            title=\"Convert this dataframe to an interactive table.\"\n",
       "            style=\"display:none;\">\n",
       "\n",
       "  <svg xmlns=\"http://www.w3.org/2000/svg\" height=\"24px\" viewBox=\"0 -960 960 960\">\n",
       "    <path d=\"M120-120v-720h720v720H120Zm60-500h600v-160H180v160Zm220 220h160v-160H400v160Zm0 220h160v-160H400v160ZM180-400h160v-160H180v160Zm440 0h160v-160H620v160ZM180-180h160v-160H180v160Zm440 0h160v-160H620v160Z\"/>\n",
       "  </svg>\n",
       "    </button>\n",
       "\n",
       "  <style>\n",
       "    .colab-df-container {\n",
       "      display:flex;\n",
       "      gap: 12px;\n",
       "    }\n",
       "\n",
       "    .colab-df-convert {\n",
       "      background-color: #E8F0FE;\n",
       "      border: none;\n",
       "      border-radius: 50%;\n",
       "      cursor: pointer;\n",
       "      display: none;\n",
       "      fill: #1967D2;\n",
       "      height: 32px;\n",
       "      padding: 0 0 0 0;\n",
       "      width: 32px;\n",
       "    }\n",
       "\n",
       "    .colab-df-convert:hover {\n",
       "      background-color: #E2EBFA;\n",
       "      box-shadow: 0px 1px 2px rgba(60, 64, 67, 0.3), 0px 1px 3px 1px rgba(60, 64, 67, 0.15);\n",
       "      fill: #174EA6;\n",
       "    }\n",
       "\n",
       "    .colab-df-buttons div {\n",
       "      margin-bottom: 4px;\n",
       "    }\n",
       "\n",
       "    [theme=dark] .colab-df-convert {\n",
       "      background-color: #3B4455;\n",
       "      fill: #D2E3FC;\n",
       "    }\n",
       "\n",
       "    [theme=dark] .colab-df-convert:hover {\n",
       "      background-color: #434B5C;\n",
       "      box-shadow: 0px 1px 3px 1px rgba(0, 0, 0, 0.15);\n",
       "      filter: drop-shadow(0px 1px 2px rgba(0, 0, 0, 0.3));\n",
       "      fill: #FFFFFF;\n",
       "    }\n",
       "  </style>\n",
       "\n",
       "    <script>\n",
       "      const buttonEl =\n",
       "        document.querySelector('#df-44fd1a35-ce89-4921-97fb-cdf19e8c6d8d button.colab-df-convert');\n",
       "      buttonEl.style.display =\n",
       "        google.colab.kernel.accessAllowed ? 'block' : 'none';\n",
       "\n",
       "      async function convertToInteractive(key) {\n",
       "        const element = document.querySelector('#df-44fd1a35-ce89-4921-97fb-cdf19e8c6d8d');\n",
       "        const dataTable =\n",
       "          await google.colab.kernel.invokeFunction('convertToInteractive',\n",
       "                                                    [key], {});\n",
       "        if (!dataTable) return;\n",
       "\n",
       "        const docLinkHtml = 'Like what you see? Visit the ' +\n",
       "          '<a target=\"_blank\" href=https://colab.research.google.com/notebooks/data_table.ipynb>data table notebook</a>'\n",
       "          + ' to learn more about interactive tables.';\n",
       "        element.innerHTML = '';\n",
       "        dataTable['output_type'] = 'display_data';\n",
       "        await google.colab.output.renderOutput(dataTable, element);\n",
       "        const docLink = document.createElement('div');\n",
       "        docLink.innerHTML = docLinkHtml;\n",
       "        element.appendChild(docLink);\n",
       "      }\n",
       "    </script>\n",
       "  </div>\n",
       "\n",
       "\n",
       "<div id=\"df-67bf5be1-7b93-4ba0-9b15-23f7425dfd30\">\n",
       "  <button class=\"colab-df-quickchart\" onclick=\"quickchart('df-67bf5be1-7b93-4ba0-9b15-23f7425dfd30')\"\n",
       "            title=\"Suggest charts.\"\n",
       "            style=\"display:none;\">\n",
       "\n",
       "<svg xmlns=\"http://www.w3.org/2000/svg\" height=\"24px\"viewBox=\"0 0 24 24\"\n",
       "     width=\"24px\">\n",
       "    <g>\n",
       "        <path d=\"M19 3H5c-1.1 0-2 .9-2 2v14c0 1.1.9 2 2 2h14c1.1 0 2-.9 2-2V5c0-1.1-.9-2-2-2zM9 17H7v-7h2v7zm4 0h-2V7h2v10zm4 0h-2v-4h2v4z\"/>\n",
       "    </g>\n",
       "</svg>\n",
       "  </button>\n",
       "\n",
       "<style>\n",
       "  .colab-df-quickchart {\n",
       "      --bg-color: #E8F0FE;\n",
       "      --fill-color: #1967D2;\n",
       "      --hover-bg-color: #E2EBFA;\n",
       "      --hover-fill-color: #174EA6;\n",
       "      --disabled-fill-color: #AAA;\n",
       "      --disabled-bg-color: #DDD;\n",
       "  }\n",
       "\n",
       "  [theme=dark] .colab-df-quickchart {\n",
       "      --bg-color: #3B4455;\n",
       "      --fill-color: #D2E3FC;\n",
       "      --hover-bg-color: #434B5C;\n",
       "      --hover-fill-color: #FFFFFF;\n",
       "      --disabled-bg-color: #3B4455;\n",
       "      --disabled-fill-color: #666;\n",
       "  }\n",
       "\n",
       "  .colab-df-quickchart {\n",
       "    background-color: var(--bg-color);\n",
       "    border: none;\n",
       "    border-radius: 50%;\n",
       "    cursor: pointer;\n",
       "    display: none;\n",
       "    fill: var(--fill-color);\n",
       "    height: 32px;\n",
       "    padding: 0;\n",
       "    width: 32px;\n",
       "  }\n",
       "\n",
       "  .colab-df-quickchart:hover {\n",
       "    background-color: var(--hover-bg-color);\n",
       "    box-shadow: 0 1px 2px rgba(60, 64, 67, 0.3), 0 1px 3px 1px rgba(60, 64, 67, 0.15);\n",
       "    fill: var(--button-hover-fill-color);\n",
       "  }\n",
       "\n",
       "  .colab-df-quickchart-complete:disabled,\n",
       "  .colab-df-quickchart-complete:disabled:hover {\n",
       "    background-color: var(--disabled-bg-color);\n",
       "    fill: var(--disabled-fill-color);\n",
       "    box-shadow: none;\n",
       "  }\n",
       "\n",
       "  .colab-df-spinner {\n",
       "    border: 2px solid var(--fill-color);\n",
       "    border-color: transparent;\n",
       "    border-bottom-color: var(--fill-color);\n",
       "    animation:\n",
       "      spin 1s steps(1) infinite;\n",
       "  }\n",
       "\n",
       "  @keyframes spin {\n",
       "    0% {\n",
       "      border-color: transparent;\n",
       "      border-bottom-color: var(--fill-color);\n",
       "      border-left-color: var(--fill-color);\n",
       "    }\n",
       "    20% {\n",
       "      border-color: transparent;\n",
       "      border-left-color: var(--fill-color);\n",
       "      border-top-color: var(--fill-color);\n",
       "    }\n",
       "    30% {\n",
       "      border-color: transparent;\n",
       "      border-left-color: var(--fill-color);\n",
       "      border-top-color: var(--fill-color);\n",
       "      border-right-color: var(--fill-color);\n",
       "    }\n",
       "    40% {\n",
       "      border-color: transparent;\n",
       "      border-right-color: var(--fill-color);\n",
       "      border-top-color: var(--fill-color);\n",
       "    }\n",
       "    60% {\n",
       "      border-color: transparent;\n",
       "      border-right-color: var(--fill-color);\n",
       "    }\n",
       "    80% {\n",
       "      border-color: transparent;\n",
       "      border-right-color: var(--fill-color);\n",
       "      border-bottom-color: var(--fill-color);\n",
       "    }\n",
       "    90% {\n",
       "      border-color: transparent;\n",
       "      border-bottom-color: var(--fill-color);\n",
       "    }\n",
       "  }\n",
       "</style>\n",
       "\n",
       "  <script>\n",
       "    async function quickchart(key) {\n",
       "      const quickchartButtonEl =\n",
       "        document.querySelector('#' + key + ' button');\n",
       "      quickchartButtonEl.disabled = true;  // To prevent multiple clicks.\n",
       "      quickchartButtonEl.classList.add('colab-df-spinner');\n",
       "      try {\n",
       "        const charts = await google.colab.kernel.invokeFunction(\n",
       "            'suggestCharts', [key], {});\n",
       "      } catch (error) {\n",
       "        console.error('Error during call to suggestCharts:', error);\n",
       "      }\n",
       "      quickchartButtonEl.classList.remove('colab-df-spinner');\n",
       "      quickchartButtonEl.classList.add('colab-df-quickchart-complete');\n",
       "    }\n",
       "    (() => {\n",
       "      let quickchartButtonEl =\n",
       "        document.querySelector('#df-67bf5be1-7b93-4ba0-9b15-23f7425dfd30 button');\n",
       "      quickchartButtonEl.style.display =\n",
       "        google.colab.kernel.accessAllowed ? 'block' : 'none';\n",
       "    })();\n",
       "  </script>\n",
       "</div>\n",
       "    </div>\n",
       "  </div>\n"
      ],
      "text/plain": [
       "                    Connected Components  Center Merge-Center\n",
       "Rand Index                         1.000   1.000        1.000\n",
       "Adjusted Rand Index                0.782   0.591        0.784\n",
       "Cluster Count                     79,229  90,994       79,267\n",
       "Mean Cluster Size                  1.609   1.401        1.608\n",
       "Min Cluster Size                       1       1            1\n",
       "Max Cluster Size                      86       6           86"
      ]
     },
     "metadata": {},
     "output_type": "display_data"
    }
   ],
   "source": [
    "cluster_list = [cc_clusters, ct_clusters, mc_clusters]\n",
    "cluster_names = [\"Connected Components\", \"Center\", \"Merge-Center\"]\n",
    "compare_clusters(cluster_list, cluster_names, df.CID)"
   ]
  },
  {
   "cell_type": "markdown",
   "metadata": {
    "id": "pbHAu83Kj9tw"
   },
   "source": [
    "As you can see in the table, connected components produce the larger clusters with the fewest cluster count, while the gap between connected components and the Merge-Center clusters is minimal. Conversely, the Center clusters yield the smaller clusters with the highest count. Please note that all three clusters have a perfect Rand Index, as they have a large numbe of clusters making inter-cluster pairs dominant (i.e. even random clustering yields a respectable Rand Index). However, if you look at the Adjusted Rand Index, Merge-Center clustering is the best, while its difference from connected components is marginal."
   ]
  },
  {
   "cell_type": "markdown",
   "metadata": {
    "id": "sjvk7mrukCcM"
   },
   "source": [
    "That concludes our exploration of the entity resolution framework. How you proceed with the created clusters depends on your specific business requirements or use case. If you aim to establish a canonical representation for each cluster, you can achieve this by extracting the most representative value (such as the most frequent value) for each field within each cluster."
   ]
  },
  {
   "cell_type": "markdown",
   "metadata": {
    "id": "0rXvA6lMkG0R"
   },
   "source": [
    "# References <a class=\"anchor\" id=\"references\"></a>\n",
    "[1] Christophides et al., [End-to-End Entity Resolution for Big Data: A Survey](https://arxiv.org/abs/1905.06397) (2019)\n",
    "\n",
    "[2] Papadakis et al., [Comparative analysis of approximate blocking techniques for entity resolution](http://www.vldb.org/pvldb/vol9/p684-papadakis.pdf) (2016)\n",
    "\n",
    "[3] Papadakis et al., [A survey of blocking and filtering techniques for entity resolution](https://arxiv.org/abs/1905.06167) (2020)\n",
    "\n",
    "[4] Hassanzadeh et al., [Framework for evaluating clustering algorithms in duplicate detection](http://www.vldb.org/pvldb/vol2/vldb09-1025.pdf) (2009)\n",
    "\n",
    "[5] Haveliwala et al., [Scalable techniques for clustering the web](https://www.researchgate.net/publication/221035516_Scalable_Techniques_for_Clustering_the_Web) (2000)\n",
    "\n",
    "[6] Hassanzadeh & Miller, [Creating probabilistic databases from duplicated data](https://www.researchgate.net/publication/220473509_Creating_probabilistic_databases_from_duplicated_data) (2009)"
   ]
  }
 ],
 "metadata": {
  "colab": {
   "include_colab_link": true,
   "provenance": [],
   "toc_visible": true
  },
  "kernelspec": {
   "display_name": "Python 3",
   "language": "python",
   "name": "python3"
  },
  "language_info": {
   "codemirror_mode": {
    "name": "ipython",
    "version": 3
   },
   "file_extension": ".py",
   "mimetype": "text/x-python",
   "name": "python",
   "nbconvert_exporter": "python",
   "pygments_lexer": "ipython3",
   "version": "3.8.5"
  }
 },
 "nbformat": 4,
 "nbformat_minor": 1
}
